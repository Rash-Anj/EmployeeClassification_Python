{
  "nbformat": 4,
  "nbformat_minor": 0,
  "metadata": {
    "colab": {
      "provenance": [],
      "authorship_tag": "ABX9TyPaYrTx9LZvYWXvVi0c1IFJ",
      "include_colab_link": true
    },
    "kernelspec": {
      "name": "python3",
      "display_name": "Python 3"
    },
    "language_info": {
      "name": "python"
    }
  },
  "cells": [
    {
      "cell_type": "markdown",
      "metadata": {
        "id": "view-in-github",
        "colab_type": "text"
      },
      "source": [
        "<a href=\"https://colab.research.google.com/github/Rash-Anj/EmployeeClassification_Python/blob/main/EmployeeClassification_MLP.ipynb\" target=\"_parent\"><img src=\"https://colab.research.google.com/assets/colab-badge.svg\" alt=\"Open In Colab\"/></a>"
      ]
    },
    {
      "cell_type": "code",
      "execution_count": 1,
      "metadata": {
        "id": "W0VFK_qiX5Xj"
      },
      "outputs": [],
      "source": [
        "# Import necessary libraries\n",
        "import pandas as pd\n",
        "import numpy as np\n",
        "import scipy.stats as stats\n",
        "from scipy.stats import skew\n",
        "import matplotlib.pyplot as plt\n",
        "from scipy.stats import zscore\n",
        "import seaborn as sns"
      ]
    },
    {
      "cell_type": "code",
      "source": [
        "# mount google drive\n",
        "from google.colab import drive\n",
        "drive.mount('/content/drive')"
      ],
      "metadata": {
        "colab": {
          "base_uri": "https://localhost:8080/"
        },
        "id": "hoPI6Kn7H5AI",
        "outputId": "0d1f97ca-eee2-4546-9c05-2821ae9b19a2"
      },
      "execution_count": 2,
      "outputs": [
        {
          "output_type": "stream",
          "name": "stdout",
          "text": [
            "Mounted at /content/drive\n"
          ]
        }
      ]
    },
    {
      "cell_type": "code",
      "source": [
        "# Load dataset from Google Drive in Colab\n",
        "data = pd.read_csv('/content/drive/My Drive/Colab Notebooks/EmployeeClassification_MLP/Employee.csv')\n",
        "\n",
        "# Chech the shape of the data\n",
        "data.shape"
      ],
      "metadata": {
        "colab": {
          "base_uri": "https://localhost:8080/"
        },
        "id": "7tE5DiyOIC30",
        "outputId": "74982684-a0f5-407a-c789-3249d33e3c6e"
      },
      "execution_count": 3,
      "outputs": [
        {
          "output_type": "execute_result",
          "data": {
            "text/plain": [
              "(4653, 9)"
            ]
          },
          "metadata": {},
          "execution_count": 3
        }
      ]
    },
    {
      "cell_type": "code",
      "source": [
        "data.head(10)"
      ],
      "metadata": {
        "colab": {
          "base_uri": "https://localhost:8080/",
          "height": 383
        },
        "id": "_fQ9MbEWIU3e",
        "outputId": "a247a1d7-44a3-49e2-d7f4-da0ed3cbea15"
      },
      "execution_count": null,
      "outputs": [
        {
          "output_type": "execute_result",
          "data": {
            "text/plain": [
              "   Education  JoiningYear       City  PaymentTier  Age  Gender EverBenched  \\\n",
              "0  Bachelors         2017  Bangalore            3   34    Male          No   \n",
              "1  Bachelors         2013       Pune            1   28  Female          No   \n",
              "2  Bachelors         2014  New Delhi            3   38  Female          No   \n",
              "3    Masters         2016  Bangalore            3   27    Male          No   \n",
              "4    Masters         2017       Pune            3   24    Male         Yes   \n",
              "5  Bachelors         2016  Bangalore            3   22    Male          No   \n",
              "6  Bachelors         2015  New Delhi            3   38    Male          No   \n",
              "7  Bachelors         2016  Bangalore            3   34  Female          No   \n",
              "8  Bachelors         2016       Pune            3   23    Male          No   \n",
              "9    Masters         2017  New Delhi            2   37    Male          No   \n",
              "\n",
              "   ExperienceInCurrentDomain  LeaveOrNot  \n",
              "0                          0           0  \n",
              "1                          3           1  \n",
              "2                          2           0  \n",
              "3                          5           1  \n",
              "4                          2           1  \n",
              "5                          0           0  \n",
              "6                          0           0  \n",
              "7                          2           1  \n",
              "8                          1           0  \n",
              "9                          2           0  "
            ],
            "text/html": [
              "\n",
              "  <div id=\"df-4914c3f6-dfb9-4d44-8d34-532cbddee087\" class=\"colab-df-container\">\n",
              "    <div>\n",
              "<style scoped>\n",
              "    .dataframe tbody tr th:only-of-type {\n",
              "        vertical-align: middle;\n",
              "    }\n",
              "\n",
              "    .dataframe tbody tr th {\n",
              "        vertical-align: top;\n",
              "    }\n",
              "\n",
              "    .dataframe thead th {\n",
              "        text-align: right;\n",
              "    }\n",
              "</style>\n",
              "<table border=\"1\" class=\"dataframe\">\n",
              "  <thead>\n",
              "    <tr style=\"text-align: right;\">\n",
              "      <th></th>\n",
              "      <th>Education</th>\n",
              "      <th>JoiningYear</th>\n",
              "      <th>City</th>\n",
              "      <th>PaymentTier</th>\n",
              "      <th>Age</th>\n",
              "      <th>Gender</th>\n",
              "      <th>EverBenched</th>\n",
              "      <th>ExperienceInCurrentDomain</th>\n",
              "      <th>LeaveOrNot</th>\n",
              "    </tr>\n",
              "  </thead>\n",
              "  <tbody>\n",
              "    <tr>\n",
              "      <th>0</th>\n",
              "      <td>Bachelors</td>\n",
              "      <td>2017</td>\n",
              "      <td>Bangalore</td>\n",
              "      <td>3</td>\n",
              "      <td>34</td>\n",
              "      <td>Male</td>\n",
              "      <td>No</td>\n",
              "      <td>0</td>\n",
              "      <td>0</td>\n",
              "    </tr>\n",
              "    <tr>\n",
              "      <th>1</th>\n",
              "      <td>Bachelors</td>\n",
              "      <td>2013</td>\n",
              "      <td>Pune</td>\n",
              "      <td>1</td>\n",
              "      <td>28</td>\n",
              "      <td>Female</td>\n",
              "      <td>No</td>\n",
              "      <td>3</td>\n",
              "      <td>1</td>\n",
              "    </tr>\n",
              "    <tr>\n",
              "      <th>2</th>\n",
              "      <td>Bachelors</td>\n",
              "      <td>2014</td>\n",
              "      <td>New Delhi</td>\n",
              "      <td>3</td>\n",
              "      <td>38</td>\n",
              "      <td>Female</td>\n",
              "      <td>No</td>\n",
              "      <td>2</td>\n",
              "      <td>0</td>\n",
              "    </tr>\n",
              "    <tr>\n",
              "      <th>3</th>\n",
              "      <td>Masters</td>\n",
              "      <td>2016</td>\n",
              "      <td>Bangalore</td>\n",
              "      <td>3</td>\n",
              "      <td>27</td>\n",
              "      <td>Male</td>\n",
              "      <td>No</td>\n",
              "      <td>5</td>\n",
              "      <td>1</td>\n",
              "    </tr>\n",
              "    <tr>\n",
              "      <th>4</th>\n",
              "      <td>Masters</td>\n",
              "      <td>2017</td>\n",
              "      <td>Pune</td>\n",
              "      <td>3</td>\n",
              "      <td>24</td>\n",
              "      <td>Male</td>\n",
              "      <td>Yes</td>\n",
              "      <td>2</td>\n",
              "      <td>1</td>\n",
              "    </tr>\n",
              "    <tr>\n",
              "      <th>5</th>\n",
              "      <td>Bachelors</td>\n",
              "      <td>2016</td>\n",
              "      <td>Bangalore</td>\n",
              "      <td>3</td>\n",
              "      <td>22</td>\n",
              "      <td>Male</td>\n",
              "      <td>No</td>\n",
              "      <td>0</td>\n",
              "      <td>0</td>\n",
              "    </tr>\n",
              "    <tr>\n",
              "      <th>6</th>\n",
              "      <td>Bachelors</td>\n",
              "      <td>2015</td>\n",
              "      <td>New Delhi</td>\n",
              "      <td>3</td>\n",
              "      <td>38</td>\n",
              "      <td>Male</td>\n",
              "      <td>No</td>\n",
              "      <td>0</td>\n",
              "      <td>0</td>\n",
              "    </tr>\n",
              "    <tr>\n",
              "      <th>7</th>\n",
              "      <td>Bachelors</td>\n",
              "      <td>2016</td>\n",
              "      <td>Bangalore</td>\n",
              "      <td>3</td>\n",
              "      <td>34</td>\n",
              "      <td>Female</td>\n",
              "      <td>No</td>\n",
              "      <td>2</td>\n",
              "      <td>1</td>\n",
              "    </tr>\n",
              "    <tr>\n",
              "      <th>8</th>\n",
              "      <td>Bachelors</td>\n",
              "      <td>2016</td>\n",
              "      <td>Pune</td>\n",
              "      <td>3</td>\n",
              "      <td>23</td>\n",
              "      <td>Male</td>\n",
              "      <td>No</td>\n",
              "      <td>1</td>\n",
              "      <td>0</td>\n",
              "    </tr>\n",
              "    <tr>\n",
              "      <th>9</th>\n",
              "      <td>Masters</td>\n",
              "      <td>2017</td>\n",
              "      <td>New Delhi</td>\n",
              "      <td>2</td>\n",
              "      <td>37</td>\n",
              "      <td>Male</td>\n",
              "      <td>No</td>\n",
              "      <td>2</td>\n",
              "      <td>0</td>\n",
              "    </tr>\n",
              "  </tbody>\n",
              "</table>\n",
              "</div>\n",
              "    <div class=\"colab-df-buttons\">\n",
              "\n",
              "  <div class=\"colab-df-container\">\n",
              "    <button class=\"colab-df-convert\" onclick=\"convertToInteractive('df-4914c3f6-dfb9-4d44-8d34-532cbddee087')\"\n",
              "            title=\"Convert this dataframe to an interactive table.\"\n",
              "            style=\"display:none;\">\n",
              "\n",
              "  <svg xmlns=\"http://www.w3.org/2000/svg\" height=\"24px\" viewBox=\"0 -960 960 960\">\n",
              "    <path d=\"M120-120v-720h720v720H120Zm60-500h600v-160H180v160Zm220 220h160v-160H400v160Zm0 220h160v-160H400v160ZM180-400h160v-160H180v160Zm440 0h160v-160H620v160ZM180-180h160v-160H180v160Zm440 0h160v-160H620v160Z\"/>\n",
              "  </svg>\n",
              "    </button>\n",
              "\n",
              "  <style>\n",
              "    .colab-df-container {\n",
              "      display:flex;\n",
              "      gap: 12px;\n",
              "    }\n",
              "\n",
              "    .colab-df-convert {\n",
              "      background-color: #E8F0FE;\n",
              "      border: none;\n",
              "      border-radius: 50%;\n",
              "      cursor: pointer;\n",
              "      display: none;\n",
              "      fill: #1967D2;\n",
              "      height: 32px;\n",
              "      padding: 0 0 0 0;\n",
              "      width: 32px;\n",
              "    }\n",
              "\n",
              "    .colab-df-convert:hover {\n",
              "      background-color: #E2EBFA;\n",
              "      box-shadow: 0px 1px 2px rgba(60, 64, 67, 0.3), 0px 1px 3px 1px rgba(60, 64, 67, 0.15);\n",
              "      fill: #174EA6;\n",
              "    }\n",
              "\n",
              "    .colab-df-buttons div {\n",
              "      margin-bottom: 4px;\n",
              "    }\n",
              "\n",
              "    [theme=dark] .colab-df-convert {\n",
              "      background-color: #3B4455;\n",
              "      fill: #D2E3FC;\n",
              "    }\n",
              "\n",
              "    [theme=dark] .colab-df-convert:hover {\n",
              "      background-color: #434B5C;\n",
              "      box-shadow: 0px 1px 3px 1px rgba(0, 0, 0, 0.15);\n",
              "      filter: drop-shadow(0px 1px 2px rgba(0, 0, 0, 0.3));\n",
              "      fill: #FFFFFF;\n",
              "    }\n",
              "  </style>\n",
              "\n",
              "    <script>\n",
              "      const buttonEl =\n",
              "        document.querySelector('#df-4914c3f6-dfb9-4d44-8d34-532cbddee087 button.colab-df-convert');\n",
              "      buttonEl.style.display =\n",
              "        google.colab.kernel.accessAllowed ? 'block' : 'none';\n",
              "\n",
              "      async function convertToInteractive(key) {\n",
              "        const element = document.querySelector('#df-4914c3f6-dfb9-4d44-8d34-532cbddee087');\n",
              "        const dataTable =\n",
              "          await google.colab.kernel.invokeFunction('convertToInteractive',\n",
              "                                                    [key], {});\n",
              "        if (!dataTable) return;\n",
              "\n",
              "        const docLinkHtml = 'Like what you see? Visit the ' +\n",
              "          '<a target=\"_blank\" href=https://colab.research.google.com/notebooks/data_table.ipynb>data table notebook</a>'\n",
              "          + ' to learn more about interactive tables.';\n",
              "        element.innerHTML = '';\n",
              "        dataTable['output_type'] = 'display_data';\n",
              "        await google.colab.output.renderOutput(dataTable, element);\n",
              "        const docLink = document.createElement('div');\n",
              "        docLink.innerHTML = docLinkHtml;\n",
              "        element.appendChild(docLink);\n",
              "      }\n",
              "    </script>\n",
              "  </div>\n",
              "\n",
              "\n",
              "<div id=\"df-8fceebc0-d93d-4f14-8483-bfef35294d24\">\n",
              "  <button class=\"colab-df-quickchart\" onclick=\"quickchart('df-8fceebc0-d93d-4f14-8483-bfef35294d24')\"\n",
              "            title=\"Suggest charts.\"\n",
              "            style=\"display:none;\">\n",
              "\n",
              "<svg xmlns=\"http://www.w3.org/2000/svg\" height=\"24px\"viewBox=\"0 0 24 24\"\n",
              "     width=\"24px\">\n",
              "    <g>\n",
              "        <path d=\"M19 3H5c-1.1 0-2 .9-2 2v14c0 1.1.9 2 2 2h14c1.1 0 2-.9 2-2V5c0-1.1-.9-2-2-2zM9 17H7v-7h2v7zm4 0h-2V7h2v10zm4 0h-2v-4h2v4z\"/>\n",
              "    </g>\n",
              "</svg>\n",
              "  </button>\n",
              "\n",
              "<style>\n",
              "  .colab-df-quickchart {\n",
              "      --bg-color: #E8F0FE;\n",
              "      --fill-color: #1967D2;\n",
              "      --hover-bg-color: #E2EBFA;\n",
              "      --hover-fill-color: #174EA6;\n",
              "      --disabled-fill-color: #AAA;\n",
              "      --disabled-bg-color: #DDD;\n",
              "  }\n",
              "\n",
              "  [theme=dark] .colab-df-quickchart {\n",
              "      --bg-color: #3B4455;\n",
              "      --fill-color: #D2E3FC;\n",
              "      --hover-bg-color: #434B5C;\n",
              "      --hover-fill-color: #FFFFFF;\n",
              "      --disabled-bg-color: #3B4455;\n",
              "      --disabled-fill-color: #666;\n",
              "  }\n",
              "\n",
              "  .colab-df-quickchart {\n",
              "    background-color: var(--bg-color);\n",
              "    border: none;\n",
              "    border-radius: 50%;\n",
              "    cursor: pointer;\n",
              "    display: none;\n",
              "    fill: var(--fill-color);\n",
              "    height: 32px;\n",
              "    padding: 0;\n",
              "    width: 32px;\n",
              "  }\n",
              "\n",
              "  .colab-df-quickchart:hover {\n",
              "    background-color: var(--hover-bg-color);\n",
              "    box-shadow: 0 1px 2px rgba(60, 64, 67, 0.3), 0 1px 3px 1px rgba(60, 64, 67, 0.15);\n",
              "    fill: var(--button-hover-fill-color);\n",
              "  }\n",
              "\n",
              "  .colab-df-quickchart-complete:disabled,\n",
              "  .colab-df-quickchart-complete:disabled:hover {\n",
              "    background-color: var(--disabled-bg-color);\n",
              "    fill: var(--disabled-fill-color);\n",
              "    box-shadow: none;\n",
              "  }\n",
              "\n",
              "  .colab-df-spinner {\n",
              "    border: 2px solid var(--fill-color);\n",
              "    border-color: transparent;\n",
              "    border-bottom-color: var(--fill-color);\n",
              "    animation:\n",
              "      spin 1s steps(1) infinite;\n",
              "  }\n",
              "\n",
              "  @keyframes spin {\n",
              "    0% {\n",
              "      border-color: transparent;\n",
              "      border-bottom-color: var(--fill-color);\n",
              "      border-left-color: var(--fill-color);\n",
              "    }\n",
              "    20% {\n",
              "      border-color: transparent;\n",
              "      border-left-color: var(--fill-color);\n",
              "      border-top-color: var(--fill-color);\n",
              "    }\n",
              "    30% {\n",
              "      border-color: transparent;\n",
              "      border-left-color: var(--fill-color);\n",
              "      border-top-color: var(--fill-color);\n",
              "      border-right-color: var(--fill-color);\n",
              "    }\n",
              "    40% {\n",
              "      border-color: transparent;\n",
              "      border-right-color: var(--fill-color);\n",
              "      border-top-color: var(--fill-color);\n",
              "    }\n",
              "    60% {\n",
              "      border-color: transparent;\n",
              "      border-right-color: var(--fill-color);\n",
              "    }\n",
              "    80% {\n",
              "      border-color: transparent;\n",
              "      border-right-color: var(--fill-color);\n",
              "      border-bottom-color: var(--fill-color);\n",
              "    }\n",
              "    90% {\n",
              "      border-color: transparent;\n",
              "      border-bottom-color: var(--fill-color);\n",
              "    }\n",
              "  }\n",
              "</style>\n",
              "\n",
              "  <script>\n",
              "    async function quickchart(key) {\n",
              "      const quickchartButtonEl =\n",
              "        document.querySelector('#' + key + ' button');\n",
              "      quickchartButtonEl.disabled = true;  // To prevent multiple clicks.\n",
              "      quickchartButtonEl.classList.add('colab-df-spinner');\n",
              "      try {\n",
              "        const charts = await google.colab.kernel.invokeFunction(\n",
              "            'suggestCharts', [key], {});\n",
              "      } catch (error) {\n",
              "        console.error('Error during call to suggestCharts:', error);\n",
              "      }\n",
              "      quickchartButtonEl.classList.remove('colab-df-spinner');\n",
              "      quickchartButtonEl.classList.add('colab-df-quickchart-complete');\n",
              "    }\n",
              "    (() => {\n",
              "      let quickchartButtonEl =\n",
              "        document.querySelector('#df-8fceebc0-d93d-4f14-8483-bfef35294d24 button');\n",
              "      quickchartButtonEl.style.display =\n",
              "        google.colab.kernel.accessAllowed ? 'block' : 'none';\n",
              "    })();\n",
              "  </script>\n",
              "</div>\n",
              "    </div>\n",
              "  </div>\n"
            ]
          },
          "metadata": {},
          "execution_count": 4
        }
      ]
    },
    {
      "cell_type": "code",
      "source": [
        "#Check datatype of each column\n",
        "data.info()"
      ],
      "metadata": {
        "colab": {
          "base_uri": "https://localhost:8080/"
        },
        "id": "dPeeV71pIg0H",
        "outputId": "ffeba0ab-22c3-4a3f-bddc-860ec2e28a86"
      },
      "execution_count": null,
      "outputs": [
        {
          "output_type": "stream",
          "name": "stdout",
          "text": [
            "<class 'pandas.core.frame.DataFrame'>\n",
            "RangeIndex: 4653 entries, 0 to 4652\n",
            "Data columns (total 9 columns):\n",
            " #   Column                     Non-Null Count  Dtype \n",
            "---  ------                     --------------  ----- \n",
            " 0   Education                  4653 non-null   object\n",
            " 1   JoiningYear                4653 non-null   int64 \n",
            " 2   City                       4653 non-null   object\n",
            " 3   PaymentTier                4653 non-null   int64 \n",
            " 4   Age                        4653 non-null   int64 \n",
            " 5   Gender                     4653 non-null   object\n",
            " 6   EverBenched                4653 non-null   object\n",
            " 7   ExperienceInCurrentDomain  4653 non-null   int64 \n",
            " 8   LeaveOrNot                 4653 non-null   int64 \n",
            "dtypes: int64(5), object(4)\n",
            "memory usage: 327.3+ KB\n"
          ]
        }
      ]
    },
    {
      "cell_type": "markdown",
      "source": [
        "# **Observation**\n",
        "\n",
        "\n",
        "*   The categorical values are in the datatype 'object'\n",
        "*   Better to convert them into the datatype 'category' in order to make the data processing more memory-efficient, faster, and easier to interpret."
      ],
      "metadata": {
        "id": "p-syKrPDIkzY"
      }
    },
    {
      "cell_type": "code",
      "source": [
        "object_cols = data.select_dtypes(include=['object']).columns\n",
        "data[object_cols] = data[object_cols].astype('category')"
      ],
      "metadata": {
        "id": "ds5gSOK-Iqjr"
      },
      "execution_count": null,
      "outputs": []
    },
    {
      "cell_type": "code",
      "source": [
        "# Check the unique values of the categorical columns\n",
        "data[\"Education\"].unique()"
      ],
      "metadata": {
        "colab": {
          "base_uri": "https://localhost:8080/"
        },
        "id": "Zt-fT5u2I0kI",
        "outputId": "8d586037-656d-4e86-e7e4-038256ca4c50"
      },
      "execution_count": null,
      "outputs": [
        {
          "output_type": "execute_result",
          "data": {
            "text/plain": [
              "['Bachelors', 'Masters', 'PHD']\n",
              "Categories (3, object): ['Bachelors', 'Masters', 'PHD']"
            ]
          },
          "metadata": {},
          "execution_count": 7
        }
      ]
    },
    {
      "cell_type": "code",
      "source": [
        "data[\"City\"].unique()"
      ],
      "metadata": {
        "colab": {
          "base_uri": "https://localhost:8080/"
        },
        "id": "DvsZsmGhI_sZ",
        "outputId": "1f84ac06-4c14-4369-ffb8-6d81f476999c"
      },
      "execution_count": null,
      "outputs": [
        {
          "output_type": "execute_result",
          "data": {
            "text/plain": [
              "['Bangalore', 'Pune', 'New Delhi']\n",
              "Categories (3, object): ['Bangalore', 'New Delhi', 'Pune']"
            ]
          },
          "metadata": {},
          "execution_count": 8
        }
      ]
    },
    {
      "cell_type": "code",
      "source": [
        "data[\"Gender\"].unique()"
      ],
      "metadata": {
        "colab": {
          "base_uri": "https://localhost:8080/"
        },
        "id": "h4AQhSrCJHHz",
        "outputId": "9aa4be5a-2115-45d4-8531-7cd3e376d162"
      },
      "execution_count": null,
      "outputs": [
        {
          "output_type": "execute_result",
          "data": {
            "text/plain": [
              "['Male', 'Female']\n",
              "Categories (2, object): ['Female', 'Male']"
            ]
          },
          "metadata": {},
          "execution_count": 9
        }
      ]
    },
    {
      "cell_type": "code",
      "source": [
        "data[\"EverBenched\"].unique()"
      ],
      "metadata": {
        "colab": {
          "base_uri": "https://localhost:8080/"
        },
        "id": "VOWfKO-7JMgw",
        "outputId": "e16a8e70-c055-46c9-8748-cec276e117a4"
      },
      "execution_count": null,
      "outputs": [
        {
          "output_type": "execute_result",
          "data": {
            "text/plain": [
              "['No', 'Yes']\n",
              "Categories (2, object): ['No', 'Yes']"
            ]
          },
          "metadata": {},
          "execution_count": 10
        }
      ]
    },
    {
      "cell_type": "code",
      "source": [
        "# Describe the dataset\n",
        "data.describe()"
      ],
      "metadata": {
        "colab": {
          "base_uri": "https://localhost:8080/",
          "height": 320
        },
        "id": "2HfmtzTjJS83",
        "outputId": "532433bf-10eb-41b0-d6b4-bf2710c451c9"
      },
      "execution_count": null,
      "outputs": [
        {
          "output_type": "execute_result",
          "data": {
            "text/plain": [
              "       JoiningYear  PaymentTier          Age  ExperienceInCurrentDomain  \\\n",
              "count  4653.000000  4653.000000  4653.000000                4653.000000   \n",
              "mean   2015.062970     2.698259    29.393295                   2.905652   \n",
              "std       1.863377     0.561435     4.826087                   1.558240   \n",
              "min    2012.000000     1.000000    22.000000                   0.000000   \n",
              "25%    2013.000000     3.000000    26.000000                   2.000000   \n",
              "50%    2015.000000     3.000000    28.000000                   3.000000   \n",
              "75%    2017.000000     3.000000    32.000000                   4.000000   \n",
              "max    2018.000000     3.000000    41.000000                   7.000000   \n",
              "\n",
              "        LeaveOrNot  \n",
              "count  4653.000000  \n",
              "mean      0.343864  \n",
              "std       0.475047  \n",
              "min       0.000000  \n",
              "25%       0.000000  \n",
              "50%       0.000000  \n",
              "75%       1.000000  \n",
              "max       1.000000  "
            ],
            "text/html": [
              "\n",
              "  <div id=\"df-a2aa935d-7e07-4e10-96a9-5cd3d2eecd2d\" class=\"colab-df-container\">\n",
              "    <div>\n",
              "<style scoped>\n",
              "    .dataframe tbody tr th:only-of-type {\n",
              "        vertical-align: middle;\n",
              "    }\n",
              "\n",
              "    .dataframe tbody tr th {\n",
              "        vertical-align: top;\n",
              "    }\n",
              "\n",
              "    .dataframe thead th {\n",
              "        text-align: right;\n",
              "    }\n",
              "</style>\n",
              "<table border=\"1\" class=\"dataframe\">\n",
              "  <thead>\n",
              "    <tr style=\"text-align: right;\">\n",
              "      <th></th>\n",
              "      <th>JoiningYear</th>\n",
              "      <th>PaymentTier</th>\n",
              "      <th>Age</th>\n",
              "      <th>ExperienceInCurrentDomain</th>\n",
              "      <th>LeaveOrNot</th>\n",
              "    </tr>\n",
              "  </thead>\n",
              "  <tbody>\n",
              "    <tr>\n",
              "      <th>count</th>\n",
              "      <td>4653.000000</td>\n",
              "      <td>4653.000000</td>\n",
              "      <td>4653.000000</td>\n",
              "      <td>4653.000000</td>\n",
              "      <td>4653.000000</td>\n",
              "    </tr>\n",
              "    <tr>\n",
              "      <th>mean</th>\n",
              "      <td>2015.062970</td>\n",
              "      <td>2.698259</td>\n",
              "      <td>29.393295</td>\n",
              "      <td>2.905652</td>\n",
              "      <td>0.343864</td>\n",
              "    </tr>\n",
              "    <tr>\n",
              "      <th>std</th>\n",
              "      <td>1.863377</td>\n",
              "      <td>0.561435</td>\n",
              "      <td>4.826087</td>\n",
              "      <td>1.558240</td>\n",
              "      <td>0.475047</td>\n",
              "    </tr>\n",
              "    <tr>\n",
              "      <th>min</th>\n",
              "      <td>2012.000000</td>\n",
              "      <td>1.000000</td>\n",
              "      <td>22.000000</td>\n",
              "      <td>0.000000</td>\n",
              "      <td>0.000000</td>\n",
              "    </tr>\n",
              "    <tr>\n",
              "      <th>25%</th>\n",
              "      <td>2013.000000</td>\n",
              "      <td>3.000000</td>\n",
              "      <td>26.000000</td>\n",
              "      <td>2.000000</td>\n",
              "      <td>0.000000</td>\n",
              "    </tr>\n",
              "    <tr>\n",
              "      <th>50%</th>\n",
              "      <td>2015.000000</td>\n",
              "      <td>3.000000</td>\n",
              "      <td>28.000000</td>\n",
              "      <td>3.000000</td>\n",
              "      <td>0.000000</td>\n",
              "    </tr>\n",
              "    <tr>\n",
              "      <th>75%</th>\n",
              "      <td>2017.000000</td>\n",
              "      <td>3.000000</td>\n",
              "      <td>32.000000</td>\n",
              "      <td>4.000000</td>\n",
              "      <td>1.000000</td>\n",
              "    </tr>\n",
              "    <tr>\n",
              "      <th>max</th>\n",
              "      <td>2018.000000</td>\n",
              "      <td>3.000000</td>\n",
              "      <td>41.000000</td>\n",
              "      <td>7.000000</td>\n",
              "      <td>1.000000</td>\n",
              "    </tr>\n",
              "  </tbody>\n",
              "</table>\n",
              "</div>\n",
              "    <div class=\"colab-df-buttons\">\n",
              "\n",
              "  <div class=\"colab-df-container\">\n",
              "    <button class=\"colab-df-convert\" onclick=\"convertToInteractive('df-a2aa935d-7e07-4e10-96a9-5cd3d2eecd2d')\"\n",
              "            title=\"Convert this dataframe to an interactive table.\"\n",
              "            style=\"display:none;\">\n",
              "\n",
              "  <svg xmlns=\"http://www.w3.org/2000/svg\" height=\"24px\" viewBox=\"0 -960 960 960\">\n",
              "    <path d=\"M120-120v-720h720v720H120Zm60-500h600v-160H180v160Zm220 220h160v-160H400v160Zm0 220h160v-160H400v160ZM180-400h160v-160H180v160Zm440 0h160v-160H620v160ZM180-180h160v-160H180v160Zm440 0h160v-160H620v160Z\"/>\n",
              "  </svg>\n",
              "    </button>\n",
              "\n",
              "  <style>\n",
              "    .colab-df-container {\n",
              "      display:flex;\n",
              "      gap: 12px;\n",
              "    }\n",
              "\n",
              "    .colab-df-convert {\n",
              "      background-color: #E8F0FE;\n",
              "      border: none;\n",
              "      border-radius: 50%;\n",
              "      cursor: pointer;\n",
              "      display: none;\n",
              "      fill: #1967D2;\n",
              "      height: 32px;\n",
              "      padding: 0 0 0 0;\n",
              "      width: 32px;\n",
              "    }\n",
              "\n",
              "    .colab-df-convert:hover {\n",
              "      background-color: #E2EBFA;\n",
              "      box-shadow: 0px 1px 2px rgba(60, 64, 67, 0.3), 0px 1px 3px 1px rgba(60, 64, 67, 0.15);\n",
              "      fill: #174EA6;\n",
              "    }\n",
              "\n",
              "    .colab-df-buttons div {\n",
              "      margin-bottom: 4px;\n",
              "    }\n",
              "\n",
              "    [theme=dark] .colab-df-convert {\n",
              "      background-color: #3B4455;\n",
              "      fill: #D2E3FC;\n",
              "    }\n",
              "\n",
              "    [theme=dark] .colab-df-convert:hover {\n",
              "      background-color: #434B5C;\n",
              "      box-shadow: 0px 1px 3px 1px rgba(0, 0, 0, 0.15);\n",
              "      filter: drop-shadow(0px 1px 2px rgba(0, 0, 0, 0.3));\n",
              "      fill: #FFFFFF;\n",
              "    }\n",
              "  </style>\n",
              "\n",
              "    <script>\n",
              "      const buttonEl =\n",
              "        document.querySelector('#df-a2aa935d-7e07-4e10-96a9-5cd3d2eecd2d button.colab-df-convert');\n",
              "      buttonEl.style.display =\n",
              "        google.colab.kernel.accessAllowed ? 'block' : 'none';\n",
              "\n",
              "      async function convertToInteractive(key) {\n",
              "        const element = document.querySelector('#df-a2aa935d-7e07-4e10-96a9-5cd3d2eecd2d');\n",
              "        const dataTable =\n",
              "          await google.colab.kernel.invokeFunction('convertToInteractive',\n",
              "                                                    [key], {});\n",
              "        if (!dataTable) return;\n",
              "\n",
              "        const docLinkHtml = 'Like what you see? Visit the ' +\n",
              "          '<a target=\"_blank\" href=https://colab.research.google.com/notebooks/data_table.ipynb>data table notebook</a>'\n",
              "          + ' to learn more about interactive tables.';\n",
              "        element.innerHTML = '';\n",
              "        dataTable['output_type'] = 'display_data';\n",
              "        await google.colab.output.renderOutput(dataTable, element);\n",
              "        const docLink = document.createElement('div');\n",
              "        docLink.innerHTML = docLinkHtml;\n",
              "        element.appendChild(docLink);\n",
              "      }\n",
              "    </script>\n",
              "  </div>\n",
              "\n",
              "\n",
              "<div id=\"df-f6b83444-cc26-477f-ba27-ed5e788367a2\">\n",
              "  <button class=\"colab-df-quickchart\" onclick=\"quickchart('df-f6b83444-cc26-477f-ba27-ed5e788367a2')\"\n",
              "            title=\"Suggest charts.\"\n",
              "            style=\"display:none;\">\n",
              "\n",
              "<svg xmlns=\"http://www.w3.org/2000/svg\" height=\"24px\"viewBox=\"0 0 24 24\"\n",
              "     width=\"24px\">\n",
              "    <g>\n",
              "        <path d=\"M19 3H5c-1.1 0-2 .9-2 2v14c0 1.1.9 2 2 2h14c1.1 0 2-.9 2-2V5c0-1.1-.9-2-2-2zM9 17H7v-7h2v7zm4 0h-2V7h2v10zm4 0h-2v-4h2v4z\"/>\n",
              "    </g>\n",
              "</svg>\n",
              "  </button>\n",
              "\n",
              "<style>\n",
              "  .colab-df-quickchart {\n",
              "      --bg-color: #E8F0FE;\n",
              "      --fill-color: #1967D2;\n",
              "      --hover-bg-color: #E2EBFA;\n",
              "      --hover-fill-color: #174EA6;\n",
              "      --disabled-fill-color: #AAA;\n",
              "      --disabled-bg-color: #DDD;\n",
              "  }\n",
              "\n",
              "  [theme=dark] .colab-df-quickchart {\n",
              "      --bg-color: #3B4455;\n",
              "      --fill-color: #D2E3FC;\n",
              "      --hover-bg-color: #434B5C;\n",
              "      --hover-fill-color: #FFFFFF;\n",
              "      --disabled-bg-color: #3B4455;\n",
              "      --disabled-fill-color: #666;\n",
              "  }\n",
              "\n",
              "  .colab-df-quickchart {\n",
              "    background-color: var(--bg-color);\n",
              "    border: none;\n",
              "    border-radius: 50%;\n",
              "    cursor: pointer;\n",
              "    display: none;\n",
              "    fill: var(--fill-color);\n",
              "    height: 32px;\n",
              "    padding: 0;\n",
              "    width: 32px;\n",
              "  }\n",
              "\n",
              "  .colab-df-quickchart:hover {\n",
              "    background-color: var(--hover-bg-color);\n",
              "    box-shadow: 0 1px 2px rgba(60, 64, 67, 0.3), 0 1px 3px 1px rgba(60, 64, 67, 0.15);\n",
              "    fill: var(--button-hover-fill-color);\n",
              "  }\n",
              "\n",
              "  .colab-df-quickchart-complete:disabled,\n",
              "  .colab-df-quickchart-complete:disabled:hover {\n",
              "    background-color: var(--disabled-bg-color);\n",
              "    fill: var(--disabled-fill-color);\n",
              "    box-shadow: none;\n",
              "  }\n",
              "\n",
              "  .colab-df-spinner {\n",
              "    border: 2px solid var(--fill-color);\n",
              "    border-color: transparent;\n",
              "    border-bottom-color: var(--fill-color);\n",
              "    animation:\n",
              "      spin 1s steps(1) infinite;\n",
              "  }\n",
              "\n",
              "  @keyframes spin {\n",
              "    0% {\n",
              "      border-color: transparent;\n",
              "      border-bottom-color: var(--fill-color);\n",
              "      border-left-color: var(--fill-color);\n",
              "    }\n",
              "    20% {\n",
              "      border-color: transparent;\n",
              "      border-left-color: var(--fill-color);\n",
              "      border-top-color: var(--fill-color);\n",
              "    }\n",
              "    30% {\n",
              "      border-color: transparent;\n",
              "      border-left-color: var(--fill-color);\n",
              "      border-top-color: var(--fill-color);\n",
              "      border-right-color: var(--fill-color);\n",
              "    }\n",
              "    40% {\n",
              "      border-color: transparent;\n",
              "      border-right-color: var(--fill-color);\n",
              "      border-top-color: var(--fill-color);\n",
              "    }\n",
              "    60% {\n",
              "      border-color: transparent;\n",
              "      border-right-color: var(--fill-color);\n",
              "    }\n",
              "    80% {\n",
              "      border-color: transparent;\n",
              "      border-right-color: var(--fill-color);\n",
              "      border-bottom-color: var(--fill-color);\n",
              "    }\n",
              "    90% {\n",
              "      border-color: transparent;\n",
              "      border-bottom-color: var(--fill-color);\n",
              "    }\n",
              "  }\n",
              "</style>\n",
              "\n",
              "  <script>\n",
              "    async function quickchart(key) {\n",
              "      const quickchartButtonEl =\n",
              "        document.querySelector('#' + key + ' button');\n",
              "      quickchartButtonEl.disabled = true;  // To prevent multiple clicks.\n",
              "      quickchartButtonEl.classList.add('colab-df-spinner');\n",
              "      try {\n",
              "        const charts = await google.colab.kernel.invokeFunction(\n",
              "            'suggestCharts', [key], {});\n",
              "      } catch (error) {\n",
              "        console.error('Error during call to suggestCharts:', error);\n",
              "      }\n",
              "      quickchartButtonEl.classList.remove('colab-df-spinner');\n",
              "      quickchartButtonEl.classList.add('colab-df-quickchart-complete');\n",
              "    }\n",
              "    (() => {\n",
              "      let quickchartButtonEl =\n",
              "        document.querySelector('#df-f6b83444-cc26-477f-ba27-ed5e788367a2 button');\n",
              "      quickchartButtonEl.style.display =\n",
              "        google.colab.kernel.accessAllowed ? 'block' : 'none';\n",
              "    })();\n",
              "  </script>\n",
              "</div>\n",
              "    </div>\n",
              "  </div>\n"
            ]
          },
          "metadata": {},
          "execution_count": 11
        }
      ]
    },
    {
      "cell_type": "markdown",
      "source": [
        "# **Handling Missing Values**"
      ],
      "metadata": {
        "id": "E1Re5nESo7cn"
      }
    },
    {
      "cell_type": "code",
      "source": [
        "# check weather there's any null values in the dataset\n",
        "data.isna().sum()"
      ],
      "metadata": {
        "colab": {
          "base_uri": "https://localhost:8080/"
        },
        "id": "KsumJ6BgpA4_",
        "outputId": "8b702722-1a5c-4645-d89b-0c406e3e67d6"
      },
      "execution_count": null,
      "outputs": [
        {
          "output_type": "execute_result",
          "data": {
            "text/plain": [
              "Education                    0\n",
              "JoiningYear                  0\n",
              "City                         0\n",
              "PaymentTier                  0\n",
              "Age                          0\n",
              "Gender                       0\n",
              "EverBenched                  0\n",
              "ExperienceInCurrentDomain    0\n",
              "LeaveOrNot                   0\n",
              "dtype: int64"
            ]
          },
          "metadata": {},
          "execution_count": 12
        }
      ]
    },
    {
      "cell_type": "markdown",
      "source": [
        "# **Observation**\n",
        "\n",
        "\n",
        "*  Looks like there are no NaN values in this dataset\n",
        "*   Therefore, handling missing values is not needed for this dataset\n",
        "\n"
      ],
      "metadata": {
        "id": "BqYN6s-JpEaL"
      }
    },
    {
      "cell_type": "markdown",
      "source": [
        "# **Handling Outliers**\n",
        "\n",
        "\n",
        "*   First let's use Box Plots to idetify visual outliers.\n",
        "\n"
      ],
      "metadata": {
        "id": "I0NvFVcQtF7-"
      }
    },
    {
      "cell_type": "code",
      "source": [
        "numerical_columns = ['JoiningYear', 'PaymentTier', 'Age', 'ExperienceInCurrentDomain']\n",
        "\n",
        "plt.figure(figsize=(20, 12))\n",
        "\n",
        "for i, feature in enumerate(numerical_columns):\n",
        "    plt.subplot(2, 2, i+1)\n",
        "    sns.boxplot(x=data[feature])\n",
        "    plt.title(f'Box Plot of {feature}')\n",
        "\n",
        "plt.tight_layout()\n",
        "plt.show()"
      ],
      "metadata": {
        "colab": {
          "base_uri": "https://localhost:8080/",
          "height": 862
        },
        "id": "eB9yJOdGbsC_",
        "outputId": "338bb45a-8f0d-40c3-f438-86459dc08b80"
      },
      "execution_count": null,
      "outputs": [
        {
          "output_type": "display_data",
          "data": {
            "text/plain": [
              "<Figure size 2000x1200 with 4 Axes>"
            ],
            "image/png": "[encoded data removed]"
          },
          "metadata": {}
        }
      ]
    },
    {
      "cell_type": "code",
      "source": [
        "## Quantifing outliers using IQR method\n",
        "\n",
        "quanti_var = ['JoiningYear', 'Age', 'ExperienceInCurrentDomain', 'LeaveOrNot']\n",
        "\n",
        "def count_outliers(series):\n",
        "    Q1 = series.quantile(0.25)\n",
        "    Q3 = series.quantile(0.75)\n",
        "    IQR = Q3 - Q1\n",
        "    lower_bound = Q1 - 1.5 * IQR\n",
        "    upper_bound = Q3 + 1.5 * IQR\n",
        "    return ((series < lower_bound) | (series > upper_bound)).sum()\n",
        "\n",
        "outliers_count_iqr = data[quanti_var].apply(count_outliers)\n",
        "outliers_count_iqr"
      ],
      "metadata": {
        "colab": {
          "base_uri": "https://localhost:8080/"
        },
        "id": "ns9mhH4ntTAY",
        "outputId": "04074d57-7a23-4996-ee83-fda844ea344a"
      },
      "execution_count": null,
      "outputs": [
        {
          "output_type": "execute_result",
          "data": {
            "text/plain": [
              "JoiningYear                  0\n",
              "Age                          0\n",
              "ExperienceInCurrentDomain    0\n",
              "LeaveOrNot                   0\n",
              "dtype: int64"
            ]
          },
          "metadata": {},
          "execution_count": 6
        }
      ]
    },
    {
      "cell_type": "markdown",
      "source": [
        "# **Observation**\n",
        "\n",
        "\n",
        "*   Looks like there are no outliers found.\n",
        "*   Therefore, outlier handling is not needed in this case.\n",
        "\n"
      ],
      "metadata": {
        "id": "iPduiAqKvJBO"
      }
    },
    {
      "cell_type": "markdown",
      "source": [
        "# **Distribution of the Target Variable**"
      ],
      "metadata": {
        "id": "LtXO6pUaq6tt"
      }
    },
    {
      "cell_type": "code",
      "source": [
        "plt.figure(figsize=(6, 4))\n",
        "sns.countplot(data=data, x='LeaveOrNot')\n",
        "plt.title('Distribution of LeaveOrNot')\n",
        "plt.show()"
      ],
      "metadata": {
        "colab": {
          "base_uri": "https://localhost:8080/",
          "height": 410
        },
        "id": "4ifEJh7XrAB1",
        "outputId": "45a3ebd6-8c57-4d45-e768-ba26633c5c20"
      },
      "execution_count": null,
      "outputs": [
        {
          "output_type": "display_data",
          "data": {
            "text/plain": [
              "<Figure size 600x400 with 1 Axes>"
            ],
            "image/png": "[encoded data removed]"
          },
          "metadata": {}
        }
      ]
    },
    {
      "cell_type": "markdown",
      "source": [
        "# **Observation**\n",
        "\n",
        "\n",
        "*   Just a little more than one third of the employees are Leaving.\n",
        "*   Classes are somewhat imbalanced\n",
        "\n"
      ],
      "metadata": {
        "id": "Taro9EKj3mFw"
      }
    },
    {
      "cell_type": "markdown",
      "source": [
        "# **Histograms for the Numerical Features**"
      ],
      "metadata": {
        "id": "fpPQ75B4fh9T"
      }
    },
    {
      "cell_type": "code",
      "source": [
        "fig, axes = plt.subplots(3, 3, figsize=(18, 18))\n",
        "\n",
        "for i, var in enumerate(numerical_columns):\n",
        "    row = i // 3\n",
        "    col = i % 3\n",
        "    sns.histplot(data[var], bins=50, kde=True, ax=axes[row, col])\n",
        "    axes[row, col].set_title(f'Histogram of {var}')\n",
        "    axes[row, col].set_xlabel(var)\n",
        "    axes[row, col].set_ylabel('Frequency')\n",
        "\n",
        "axes[-1, -1].axis('off')\n",
        "axes[-1, -2].axis('off')\n",
        "\n",
        "plt.tight_layout()\n",
        "plt.show()"
      ],
      "metadata": {
        "colab": {
          "base_uri": "https://localhost:8080/",
          "height": 1000
        },
        "id": "YOnQceyifsKK",
        "outputId": "4841805f-7175-4913-ba2e-de2756096abb"
      },
      "execution_count": null,
      "outputs": [
        {
          "output_type": "display_data",
          "data": {
            "text/plain": [
              "<Figure size 1800x1800 with 9 Axes>"
            ],
            "image/png": "[encoded data removed]"
          },
          "metadata": {}
        }
      ]
    },
    {
      "cell_type": "markdown",
      "source": [
        "# **Observation**\n",
        "\n",
        "\n",
        "*  **JoiningYear** :  Even though the number of employees joined has been almost same in the previous years, after being Max in 2017, it drastically dropped to being Min in 2018. May be new vacancies in the company were less in that year. The reason might be  because Global trade spats, rising interest rates and Brexit uncertainty have helped most stock indices to their worst year in a decade in 2018.\n",
        "*   **PamentTier** : Majority of the employees fall under paymentTier 3 followed by 1 while 2 has the minority.\n",
        "*   **Age** : This distribution is slightly right skewed. Most of the employees are young.\n",
        "*   **ExperienceInCurrentDomain** : The distribution is normal.\n",
        "\n",
        "\n",
        "\n"
      ],
      "metadata": {
        "id": "GZXzxwETjTVp"
      }
    },
    {
      "cell_type": "markdown",
      "source": [
        "# **Transformation**"
      ],
      "metadata": {
        "id": "ZCTj2oDZ3QBe"
      }
    },
    {
      "cell_type": "code",
      "source": [
        "# Applying Square Root Transformation on Age as it is useful for reducing the impact of outliers and handling right-skewed data.\n",
        "\n",
        "feature_column_1 = 'Age'\n",
        "\n",
        "# Apply square root transformation to the feature\n",
        "data[feature_column_1] = data[feature_column_1].apply(lambda x: x**0.5)"
      ],
      "metadata": {
        "id": "jDqg3aIn3TFC"
      },
      "execution_count": null,
      "outputs": []
    },
    {
      "cell_type": "markdown",
      "source": [
        "# **Sub Plots for the Categorical Features**"
      ],
      "metadata": {
        "id": "KbvqCHB1hQnS"
      }
    },
    {
      "cell_type": "code",
      "source": [
        "categorical_columns = ['Education', 'City', 'Gender', 'EverBenched']\n",
        "\n",
        "\n",
        "plt.figure(figsize=(20, 12))\n",
        "\n",
        "\n",
        "for i, feature in enumerate(categorical_columns):\n",
        "    plt.subplot(2, 2, i+1)\n",
        "    sns.countplot(data=data, y=feature, order = data[feature].value_counts().index)\n",
        "    plt.title(f'Distribution of {feature}')\n",
        "\n",
        "plt.tight_layout()\n",
        "plt.show()"
      ],
      "metadata": {
        "colab": {
          "base_uri": "https://localhost:8080/",
          "height": 1000
        },
        "id": "EMfDQfIQhlA-",
        "outputId": "4261497f-5c9d-4feb-e9b2-680378af5a7e"
      },
      "execution_count": null,
      "outputs": [
        {
          "output_type": "display_data",
          "data": {
            "text/plain": [
              "<Figure size 2000x1200 with 4 Axes>"
            ],
            "image/png": "[encoded data removed]"
          },
          "metadata": {}
        }
      ]
    },
    {
      "cell_type": "markdown",
      "source": [
        "# **Observations**\n",
        "\n",
        "\n",
        "*   **Education** : Majority of the employees have a bachelor's degree. This may be because of the correlation of Education with the Age.\n",
        "*   **City** : Bangalore has the highest number of employees, followed by Pune and New Delhi.\n",
        "*   **Gender** : Majority of the employees are Male.\n",
        "*   **EverBenched** : The majority of employees have not been benched.\n",
        "\n",
        "\n",
        "\n"
      ],
      "metadata": {
        "id": "I5jQaEaoosqh"
      }
    },
    {
      "cell_type": "markdown",
      "source": [
        "# **Correlations between the Features**"
      ],
      "metadata": {
        "id": "zB3sargiqEcw"
      }
    },
    {
      "cell_type": "code",
      "source": [
        "\n",
        "correlation_matrix = data.corr()\n",
        "\n",
        "plt.figure(figsize=(10, 6))\n",
        "sns.heatmap(correlation_matrix, annot=True, cmap='coolwarm')\n",
        "plt.title('Correlation Between Features')\n",
        "plt.show()"
      ],
      "metadata": {
        "colab": {
          "base_uri": "https://localhost:8080/",
          "height": 782
        },
        "id": "1RAMcd56qO7e",
        "outputId": "7026dce8-89e9-4e3d-e2d3-c9fa2f2111a3"
      },
      "execution_count": null,
      "outputs": [
        {
          "output_type": "stream",
          "name": "stderr",
          "text": [
            "<ipython-input-19-564e886bc28a>:1: FutureWarning: The default value of numeric_only in DataFrame.corr is deprecated. In a future version, it will default to False. Select only valid columns or specify the value of numeric_only to silence this warning.\n",
            "  correlation_matrix = data.corr()\n"
          ]
        },
        {
          "output_type": "display_data",
          "data": {
            "text/plain": [
              "<Figure size 1000x600 with 2 Axes>"
            ],
            "image/png": "[encoded data removed]"
          },
          "metadata": {}
        }
      ]
    },
    {
      "cell_type": "code",
      "source": [
        "correlation_matrix"
      ],
      "metadata": {
        "colab": {
          "base_uri": "https://localhost:8080/",
          "height": 206
        },
        "id": "WUKE8iJcqnBY",
        "outputId": "e97ea4f3-a0a8-4996-ba2f-a1ff85014165"
      },
      "execution_count": null,
      "outputs": [
        {
          "output_type": "execute_result",
          "data": {
            "text/plain": [
              "                           JoiningYear  PaymentTier       Age  \\\n",
              "JoiningYear                   1.000000    -0.096078  0.013165   \n",
              "PaymentTier                  -0.096078     1.000000  0.007631   \n",
              "Age                           0.013165     0.007631  1.000000   \n",
              "ExperienceInCurrentDomain    -0.036525     0.018314 -0.134643   \n",
              "LeaveOrNot                    0.181705    -0.197638 -0.051126   \n",
              "\n",
              "                           ExperienceInCurrentDomain  LeaveOrNot  \n",
              "JoiningYear                                -0.036525    0.181705  \n",
              "PaymentTier                                 0.018314   -0.197638  \n",
              "Age                                        -0.134643   -0.051126  \n",
              "ExperienceInCurrentDomain                   1.000000   -0.030504  \n",
              "LeaveOrNot                                 -0.030504    1.000000  "
            ],
            "text/html": [
              "\n",
              "  <div id=\"df-13a4aa40-71bf-4542-9fec-bc4063488b6b\" class=\"colab-df-container\">\n",
              "    <div>\n",
              "<style scoped>\n",
              "    .dataframe tbody tr th:only-of-type {\n",
              "        vertical-align: middle;\n",
              "    }\n",
              "\n",
              "    .dataframe tbody tr th {\n",
              "        vertical-align: top;\n",
              "    }\n",
              "\n",
              "    .dataframe thead th {\n",
              "        text-align: right;\n",
              "    }\n",
              "</style>\n",
              "<table border=\"1\" class=\"dataframe\">\n",
              "  <thead>\n",
              "    <tr style=\"text-align: right;\">\n",
              "      <th></th>\n",
              "      <th>JoiningYear</th>\n",
              "      <th>PaymentTier</th>\n",
              "      <th>Age</th>\n",
              "      <th>ExperienceInCurrentDomain</th>\n",
              "      <th>LeaveOrNot</th>\n",
              "    </tr>\n",
              "  </thead>\n",
              "  <tbody>\n",
              "    <tr>\n",
              "      <th>JoiningYear</th>\n",
              "      <td>1.000000</td>\n",
              "      <td>-0.096078</td>\n",
              "      <td>0.013165</td>\n",
              "      <td>-0.036525</td>\n",
              "      <td>0.181705</td>\n",
              "    </tr>\n",
              "    <tr>\n",
              "      <th>PaymentTier</th>\n",
              "      <td>-0.096078</td>\n",
              "      <td>1.000000</td>\n",
              "      <td>0.007631</td>\n",
              "      <td>0.018314</td>\n",
              "      <td>-0.197638</td>\n",
              "    </tr>\n",
              "    <tr>\n",
              "      <th>Age</th>\n",
              "      <td>0.013165</td>\n",
              "      <td>0.007631</td>\n",
              "      <td>1.000000</td>\n",
              "      <td>-0.134643</td>\n",
              "      <td>-0.051126</td>\n",
              "    </tr>\n",
              "    <tr>\n",
              "      <th>ExperienceInCurrentDomain</th>\n",
              "      <td>-0.036525</td>\n",
              "      <td>0.018314</td>\n",
              "      <td>-0.134643</td>\n",
              "      <td>1.000000</td>\n",
              "      <td>-0.030504</td>\n",
              "    </tr>\n",
              "    <tr>\n",
              "      <th>LeaveOrNot</th>\n",
              "      <td>0.181705</td>\n",
              "      <td>-0.197638</td>\n",
              "      <td>-0.051126</td>\n",
              "      <td>-0.030504</td>\n",
              "      <td>1.000000</td>\n",
              "    </tr>\n",
              "  </tbody>\n",
              "</table>\n",
              "</div>\n",
              "    <div class=\"colab-df-buttons\">\n",
              "\n",
              "  <div class=\"colab-df-container\">\n",
              "    <button class=\"colab-df-convert\" onclick=\"convertToInteractive('df-13a4aa40-71bf-4542-9fec-bc4063488b6b')\"\n",
              "            title=\"Convert this dataframe to an interactive table.\"\n",
              "            style=\"display:none;\">\n",
              "\n",
              "  <svg xmlns=\"http://www.w3.org/2000/svg\" height=\"24px\" viewBox=\"0 -960 960 960\">\n",
              "    <path d=\"M120-120v-720h720v720H120Zm60-500h600v-160H180v160Zm220 220h160v-160H400v160Zm0 220h160v-160H400v160ZM180-400h160v-160H180v160Zm440 0h160v-160H620v160ZM180-180h160v-160H180v160Zm440 0h160v-160H620v160Z\"/>\n",
              "  </svg>\n",
              "    </button>\n",
              "\n",
              "  <style>\n",
              "    .colab-df-container {\n",
              "      display:flex;\n",
              "      gap: 12px;\n",
              "    }\n",
              "\n",
              "    .colab-df-convert {\n",
              "      background-color: #E8F0FE;\n",
              "      border: none;\n",
              "      border-radius: 50%;\n",
              "      cursor: pointer;\n",
              "      display: none;\n",
              "      fill: #1967D2;\n",
              "      height: 32px;\n",
              "      padding: 0 0 0 0;\n",
              "      width: 32px;\n",
              "    }\n",
              "\n",
              "    .colab-df-convert:hover {\n",
              "      background-color: #E2EBFA;\n",
              "      box-shadow: 0px 1px 2px rgba(60, 64, 67, 0.3), 0px 1px 3px 1px rgba(60, 64, 67, 0.15);\n",
              "      fill: #174EA6;\n",
              "    }\n",
              "\n",
              "    .colab-df-buttons div {\n",
              "      margin-bottom: 4px;\n",
              "    }\n",
              "\n",
              "    [theme=dark] .colab-df-convert {\n",
              "      background-color: #3B4455;\n",
              "      fill: #D2E3FC;\n",
              "    }\n",
              "\n",
              "    [theme=dark] .colab-df-convert:hover {\n",
              "      background-color: #434B5C;\n",
              "      box-shadow: 0px 1px 3px 1px rgba(0, 0, 0, 0.15);\n",
              "      filter: drop-shadow(0px 1px 2px rgba(0, 0, 0, 0.3));\n",
              "      fill: #FFFFFF;\n",
              "    }\n",
              "  </style>\n",
              "\n",
              "    <script>\n",
              "      const buttonEl =\n",
              "        document.querySelector('#df-13a4aa40-71bf-4542-9fec-bc4063488b6b button.colab-df-convert');\n",
              "      buttonEl.style.display =\n",
              "        google.colab.kernel.accessAllowed ? 'block' : 'none';\n",
              "\n",
              "      async function convertToInteractive(key) {\n",
              "        const element = document.querySelector('#df-13a4aa40-71bf-4542-9fec-bc4063488b6b');\n",
              "        const dataTable =\n",
              "          await google.colab.kernel.invokeFunction('convertToInteractive',\n",
              "                                                    [key], {});\n",
              "        if (!dataTable) return;\n",
              "\n",
              "        const docLinkHtml = 'Like what you see? Visit the ' +\n",
              "          '<a target=\"_blank\" href=https://colab.research.google.com/notebooks/data_table.ipynb>data table notebook</a>'\n",
              "          + ' to learn more about interactive tables.';\n",
              "        element.innerHTML = '';\n",
              "        dataTable['output_type'] = 'display_data';\n",
              "        await google.colab.output.renderOutput(dataTable, element);\n",
              "        const docLink = document.createElement('div');\n",
              "        docLink.innerHTML = docLinkHtml;\n",
              "        element.appendChild(docLink);\n",
              "      }\n",
              "    </script>\n",
              "  </div>\n",
              "\n",
              "\n",
              "<div id=\"df-c4958505-71f7-4052-9d3d-1704ef7530d6\">\n",
              "  <button class=\"colab-df-quickchart\" onclick=\"quickchart('df-c4958505-71f7-4052-9d3d-1704ef7530d6')\"\n",
              "            title=\"Suggest charts.\"\n",
              "            style=\"display:none;\">\n",
              "\n",
              "<svg xmlns=\"http://www.w3.org/2000/svg\" height=\"24px\"viewBox=\"0 0 24 24\"\n",
              "     width=\"24px\">\n",
              "    <g>\n",
              "        <path d=\"M19 3H5c-1.1 0-2 .9-2 2v14c0 1.1.9 2 2 2h14c1.1 0 2-.9 2-2V5c0-1.1-.9-2-2-2zM9 17H7v-7h2v7zm4 0h-2V7h2v10zm4 0h-2v-4h2v4z\"/>\n",
              "    </g>\n",
              "</svg>\n",
              "  </button>\n",
              "\n",
              "<style>\n",
              "  .colab-df-quickchart {\n",
              "      --bg-color: #E8F0FE;\n",
              "      --fill-color: #1967D2;\n",
              "      --hover-bg-color: #E2EBFA;\n",
              "      --hover-fill-color: #174EA6;\n",
              "      --disabled-fill-color: #AAA;\n",
              "      --disabled-bg-color: #DDD;\n",
              "  }\n",
              "\n",
              "  [theme=dark] .colab-df-quickchart {\n",
              "      --bg-color: #3B4455;\n",
              "      --fill-color: #D2E3FC;\n",
              "      --hover-bg-color: #434B5C;\n",
              "      --hover-fill-color: #FFFFFF;\n",
              "      --disabled-bg-color: #3B4455;\n",
              "      --disabled-fill-color: #666;\n",
              "  }\n",
              "\n",
              "  .colab-df-quickchart {\n",
              "    background-color: var(--bg-color);\n",
              "    border: none;\n",
              "    border-radius: 50%;\n",
              "    cursor: pointer;\n",
              "    display: none;\n",
              "    fill: var(--fill-color);\n",
              "    height: 32px;\n",
              "    padding: 0;\n",
              "    width: 32px;\n",
              "  }\n",
              "\n",
              "  .colab-df-quickchart:hover {\n",
              "    background-color: var(--hover-bg-color);\n",
              "    box-shadow: 0 1px 2px rgba(60, 64, 67, 0.3), 0 1px 3px 1px rgba(60, 64, 67, 0.15);\n",
              "    fill: var(--button-hover-fill-color);\n",
              "  }\n",
              "\n",
              "  .colab-df-quickchart-complete:disabled,\n",
              "  .colab-df-quickchart-complete:disabled:hover {\n",
              "    background-color: var(--disabled-bg-color);\n",
              "    fill: var(--disabled-fill-color);\n",
              "    box-shadow: none;\n",
              "  }\n",
              "\n",
              "  .colab-df-spinner {\n",
              "    border: 2px solid var(--fill-color);\n",
              "    border-color: transparent;\n",
              "    border-bottom-color: var(--fill-color);\n",
              "    animation:\n",
              "      spin 1s steps(1) infinite;\n",
              "  }\n",
              "\n",
              "  @keyframes spin {\n",
              "    0% {\n",
              "      border-color: transparent;\n",
              "      border-bottom-color: var(--fill-color);\n",
              "      border-left-color: var(--fill-color);\n",
              "    }\n",
              "    20% {\n",
              "      border-color: transparent;\n",
              "      border-left-color: var(--fill-color);\n",
              "      border-top-color: var(--fill-color);\n",
              "    }\n",
              "    30% {\n",
              "      border-color: transparent;\n",
              "      border-left-color: var(--fill-color);\n",
              "      border-top-color: var(--fill-color);\n",
              "      border-right-color: var(--fill-color);\n",
              "    }\n",
              "    40% {\n",
              "      border-color: transparent;\n",
              "      border-right-color: var(--fill-color);\n",
              "      border-top-color: var(--fill-color);\n",
              "    }\n",
              "    60% {\n",
              "      border-color: transparent;\n",
              "      border-right-color: var(--fill-color);\n",
              "    }\n",
              "    80% {\n",
              "      border-color: transparent;\n",
              "      border-right-color: var(--fill-color);\n",
              "      border-bottom-color: var(--fill-color);\n",
              "    }\n",
              "    90% {\n",
              "      border-color: transparent;\n",
              "      border-bottom-color: var(--fill-color);\n",
              "    }\n",
              "  }\n",
              "</style>\n",
              "\n",
              "  <script>\n",
              "    async function quickchart(key) {\n",
              "      const quickchartButtonEl =\n",
              "        document.querySelector('#' + key + ' button');\n",
              "      quickchartButtonEl.disabled = true;  // To prevent multiple clicks.\n",
              "      quickchartButtonEl.classList.add('colab-df-spinner');\n",
              "      try {\n",
              "        const charts = await google.colab.kernel.invokeFunction(\n",
              "            'suggestCharts', [key], {});\n",
              "      } catch (error) {\n",
              "        console.error('Error during call to suggestCharts:', error);\n",
              "      }\n",
              "      quickchartButtonEl.classList.remove('colab-df-spinner');\n",
              "      quickchartButtonEl.classList.add('colab-df-quickchart-complete');\n",
              "    }\n",
              "    (() => {\n",
              "      let quickchartButtonEl =\n",
              "        document.querySelector('#df-c4958505-71f7-4052-9d3d-1704ef7530d6 button');\n",
              "      quickchartButtonEl.style.display =\n",
              "        google.colab.kernel.accessAllowed ? 'block' : 'none';\n",
              "    })();\n",
              "  </script>\n",
              "</div>\n",
              "    </div>\n",
              "  </div>\n"
            ]
          },
          "metadata": {},
          "execution_count": 20
        }
      ]
    },
    {
      "cell_type": "markdown",
      "source": [
        "# **Observations**\n",
        "- Payment Tier is slightly negatively linked to LeaveOrNot, suggesting that individuals in higher payment tiers are less inclined to leave.\n",
        "- There is a moderate positive connection between Age and ExperienceInCurrentDomain\n",
        "- None of the features display a significant correlation with the target variable LeaveOrNot, suggesting that a linear model might not be the most suitable solution for this issue.\n",
        "\n"
      ],
      "metadata": {
        "id": "9W9l-G49-5D0"
      }
    },
    {
      "cell_type": "markdown",
      "source": [
        "# **Encoding Categorical Features**"
      ],
      "metadata": {
        "id": "o1b1MDuD-SS2"
      }
    },
    {
      "cell_type": "code",
      "source": [
        "data_encoded = pd.get_dummies(data, columns=['Education','City', 'Gender','EverBenched'])"
      ],
      "metadata": {
        "id": "r1qPFFR2-TgP"
      },
      "execution_count": null,
      "outputs": []
    },
    {
      "cell_type": "code",
      "source": [
        "data_encoded.info()"
      ],
      "metadata": {
        "colab": {
          "base_uri": "https://localhost:8080/"
        },
        "id": "4c6t1sjo-Z3A",
        "outputId": "49b6f806-bfab-424f-cf20-6accfe0382d0"
      },
      "execution_count": null,
      "outputs": [
        {
          "output_type": "stream",
          "name": "stdout",
          "text": [
            "<class 'pandas.core.frame.DataFrame'>\n",
            "RangeIndex: 4653 entries, 0 to 4652\n",
            "Data columns (total 15 columns):\n",
            " #   Column                     Non-Null Count  Dtype  \n",
            "---  ------                     --------------  -----  \n",
            " 0   JoiningYear                4653 non-null   int64  \n",
            " 1   PaymentTier                4653 non-null   int64  \n",
            " 2   Age                        4653 non-null   float64\n",
            " 3   ExperienceInCurrentDomain  4653 non-null   int64  \n",
            " 4   LeaveOrNot                 4653 non-null   int64  \n",
            " 5   Education_Bachelors        4653 non-null   uint8  \n",
            " 6   Education_Masters          4653 non-null   uint8  \n",
            " 7   Education_PHD              4653 non-null   uint8  \n",
            " 8   City_Bangalore             4653 non-null   uint8  \n",
            " 9   City_New Delhi             4653 non-null   uint8  \n",
            " 10  City_Pune                  4653 non-null   uint8  \n",
            " 11  Gender_Female              4653 non-null   uint8  \n",
            " 12  Gender_Male                4653 non-null   uint8  \n",
            " 13  EverBenched_No             4653 non-null   uint8  \n",
            " 14  EverBenched_Yes            4653 non-null   uint8  \n",
            "dtypes: float64(1), int64(4), uint8(10)\n",
            "memory usage: 227.3 KB\n"
          ]
        }
      ]
    },
    {
      "cell_type": "code",
      "source": [
        "data_encoded.head(5)"
      ],
      "metadata": {
        "colab": {
          "base_uri": "https://localhost:8080/",
          "height": 243
        },
        "id": "xB29uJkz-akp",
        "outputId": "717c99e9-ffd8-412e-bdba-a8547293ee0c"
      },
      "execution_count": null,
      "outputs": [
        {
          "output_type": "execute_result",
          "data": {
            "text/plain": [
              "   JoiningYear  PaymentTier       Age  ExperienceInCurrentDomain  LeaveOrNot  \\\n",
              "0         2017            3  2.414736                          0           0   \n",
              "1         2013            1  2.300327                          3           1   \n",
              "2         2014            3  2.482824                          2           0   \n",
              "3         2016            3  2.279507                          5           1   \n",
              "4         2017            3  2.213364                          2           1   \n",
              "\n",
              "   Education_Bachelors  Education_Masters  Education_PHD  City_Bangalore  \\\n",
              "0                    1                  0              0               1   \n",
              "1                    1                  0              0               0   \n",
              "2                    1                  0              0               0   \n",
              "3                    0                  1              0               1   \n",
              "4                    0                  1              0               0   \n",
              "\n",
              "   City_New Delhi  City_Pune  Gender_Female  Gender_Male  EverBenched_No  \\\n",
              "0               0          0              0            1               1   \n",
              "1               0          1              1            0               1   \n",
              "2               1          0              1            0               1   \n",
              "3               0          0              0            1               1   \n",
              "4               0          1              0            1               0   \n",
              "\n",
              "   EverBenched_Yes  \n",
              "0                0  \n",
              "1                0  \n",
              "2                0  \n",
              "3                0  \n",
              "4                1  "
            ],
            "text/html": [
              "\n",
              "  <div id=\"df-3ab4c4e8-8fb4-495a-8101-8373cfe4e196\" class=\"colab-df-container\">\n",
              "    <div>\n",
              "<style scoped>\n",
              "    .dataframe tbody tr th:only-of-type {\n",
              "        vertical-align: middle;\n",
              "    }\n",
              "\n",
              "    .dataframe tbody tr th {\n",
              "        vertical-align: top;\n",
              "    }\n",
              "\n",
              "    .dataframe thead th {\n",
              "        text-align: right;\n",
              "    }\n",
              "</style>\n",
              "<table border=\"1\" class=\"dataframe\">\n",
              "  <thead>\n",
              "    <tr style=\"text-align: right;\">\n",
              "      <th></th>\n",
              "      <th>JoiningYear</th>\n",
              "      <th>PaymentTier</th>\n",
              "      <th>Age</th>\n",
              "      <th>ExperienceInCurrentDomain</th>\n",
              "      <th>LeaveOrNot</th>\n",
              "      <th>Education_Bachelors</th>\n",
              "      <th>Education_Masters</th>\n",
              "      <th>Education_PHD</th>\n",
              "      <th>City_Bangalore</th>\n",
              "      <th>City_New Delhi</th>\n",
              "      <th>City_Pune</th>\n",
              "      <th>Gender_Female</th>\n",
              "      <th>Gender_Male</th>\n",
              "      <th>EverBenched_No</th>\n",
              "      <th>EverBenched_Yes</th>\n",
              "    </tr>\n",
              "  </thead>\n",
              "  <tbody>\n",
              "    <tr>\n",
              "      <th>0</th>\n",
              "      <td>2017</td>\n",
              "      <td>3</td>\n",
              "      <td>2.414736</td>\n",
              "      <td>0</td>\n",
              "      <td>0</td>\n",
              "      <td>1</td>\n",
              "      <td>0</td>\n",
              "      <td>0</td>\n",
              "      <td>1</td>\n",
              "      <td>0</td>\n",
              "      <td>0</td>\n",
              "      <td>0</td>\n",
              "      <td>1</td>\n",
              "      <td>1</td>\n",
              "      <td>0</td>\n",
              "    </tr>\n",
              "    <tr>\n",
              "      <th>1</th>\n",
              "      <td>2013</td>\n",
              "      <td>1</td>\n",
              "      <td>2.300327</td>\n",
              "      <td>3</td>\n",
              "      <td>1</td>\n",
              "      <td>1</td>\n",
              "      <td>0</td>\n",
              "      <td>0</td>\n",
              "      <td>0</td>\n",
              "      <td>0</td>\n",
              "      <td>1</td>\n",
              "      <td>1</td>\n",
              "      <td>0</td>\n",
              "      <td>1</td>\n",
              "      <td>0</td>\n",
              "    </tr>\n",
              "    <tr>\n",
              "      <th>2</th>\n",
              "      <td>2014</td>\n",
              "      <td>3</td>\n",
              "      <td>2.482824</td>\n",
              "      <td>2</td>\n",
              "      <td>0</td>\n",
              "      <td>1</td>\n",
              "      <td>0</td>\n",
              "      <td>0</td>\n",
              "      <td>0</td>\n",
              "      <td>1</td>\n",
              "      <td>0</td>\n",
              "      <td>1</td>\n",
              "      <td>0</td>\n",
              "      <td>1</td>\n",
              "      <td>0</td>\n",
              "    </tr>\n",
              "    <tr>\n",
              "      <th>3</th>\n",
              "      <td>2016</td>\n",
              "      <td>3</td>\n",
              "      <td>2.279507</td>\n",
              "      <td>5</td>\n",
              "      <td>1</td>\n",
              "      <td>0</td>\n",
              "      <td>1</td>\n",
              "      <td>0</td>\n",
              "      <td>1</td>\n",
              "      <td>0</td>\n",
              "      <td>0</td>\n",
              "      <td>0</td>\n",
              "      <td>1</td>\n",
              "      <td>1</td>\n",
              "      <td>0</td>\n",
              "    </tr>\n",
              "    <tr>\n",
              "      <th>4</th>\n",
              "      <td>2017</td>\n",
              "      <td>3</td>\n",
              "      <td>2.213364</td>\n",
              "      <td>2</td>\n",
              "      <td>1</td>\n",
              "      <td>0</td>\n",
              "      <td>1</td>\n",
              "      <td>0</td>\n",
              "      <td>0</td>\n",
              "      <td>0</td>\n",
              "      <td>1</td>\n",
              "      <td>0</td>\n",
              "      <td>1</td>\n",
              "      <td>0</td>\n",
              "      <td>1</td>\n",
              "    </tr>\n",
              "  </tbody>\n",
              "</table>\n",
              "</div>\n",
              "    <div class=\"colab-df-buttons\">\n",
              "\n",
              "  <div class=\"colab-df-container\">\n",
              "    <button class=\"colab-df-convert\" onclick=\"convertToInteractive('df-3ab4c4e8-8fb4-495a-8101-8373cfe4e196')\"\n",
              "            title=\"Convert this dataframe to an interactive table.\"\n",
              "            style=\"display:none;\">\n",
              "\n",
              "  <svg xmlns=\"http://www.w3.org/2000/svg\" height=\"24px\" viewBox=\"0 -960 960 960\">\n",
              "    <path d=\"M120-120v-720h720v720H120Zm60-500h600v-160H180v160Zm220 220h160v-160H400v160Zm0 220h160v-160H400v160ZM180-400h160v-160H180v160Zm440 0h160v-160H620v160ZM180-180h160v-160H180v160Zm440 0h160v-160H620v160Z\"/>\n",
              "  </svg>\n",
              "    </button>\n",
              "\n",
              "  <style>\n",
              "    .colab-df-container {\n",
              "      display:flex;\n",
              "      gap: 12px;\n",
              "    }\n",
              "\n",
              "    .colab-df-convert {\n",
              "      background-color: #E8F0FE;\n",
              "      border: none;\n",
              "      border-radius: 50%;\n",
              "      cursor: pointer;\n",
              "      display: none;\n",
              "      fill: #1967D2;\n",
              "      height: 32px;\n",
              "      padding: 0 0 0 0;\n",
              "      width: 32px;\n",
              "    }\n",
              "\n",
              "    .colab-df-convert:hover {\n",
              "      background-color: #E2EBFA;\n",
              "      box-shadow: 0px 1px 2px rgba(60, 64, 67, 0.3), 0px 1px 3px 1px rgba(60, 64, 67, 0.15);\n",
              "      fill: #174EA6;\n",
              "    }\n",
              "\n",
              "    .colab-df-buttons div {\n",
              "      margin-bottom: 4px;\n",
              "    }\n",
              "\n",
              "    [theme=dark] .colab-df-convert {\n",
              "      background-color: #3B4455;\n",
              "      fill: #D2E3FC;\n",
              "    }\n",
              "\n",
              "    [theme=dark] .colab-df-convert:hover {\n",
              "      background-color: #434B5C;\n",
              "      box-shadow: 0px 1px 3px 1px rgba(0, 0, 0, 0.15);\n",
              "      filter: drop-shadow(0px 1px 2px rgba(0, 0, 0, 0.3));\n",
              "      fill: #FFFFFF;\n",
              "    }\n",
              "  </style>\n",
              "\n",
              "    <script>\n",
              "      const buttonEl =\n",
              "        document.querySelector('#df-3ab4c4e8-8fb4-495a-8101-8373cfe4e196 button.colab-df-convert');\n",
              "      buttonEl.style.display =\n",
              "        google.colab.kernel.accessAllowed ? 'block' : 'none';\n",
              "\n",
              "      async function convertToInteractive(key) {\n",
              "        const element = document.querySelector('#df-3ab4c4e8-8fb4-495a-8101-8373cfe4e196');\n",
              "        const dataTable =\n",
              "          await google.colab.kernel.invokeFunction('convertToInteractive',\n",
              "                                                    [key], {});\n",
              "        if (!dataTable) return;\n",
              "\n",
              "        const docLinkHtml = 'Like what you see? Visit the ' +\n",
              "          '<a target=\"_blank\" href=https://colab.research.google.com/notebooks/data_table.ipynb>data table notebook</a>'\n",
              "          + ' to learn more about interactive tables.';\n",
              "        element.innerHTML = '';\n",
              "        dataTable['output_type'] = 'display_data';\n",
              "        await google.colab.output.renderOutput(dataTable, element);\n",
              "        const docLink = document.createElement('div');\n",
              "        docLink.innerHTML = docLinkHtml;\n",
              "        element.appendChild(docLink);\n",
              "      }\n",
              "    </script>\n",
              "  </div>\n",
              "\n",
              "\n",
              "<div id=\"df-b91bbe20-8f82-44f3-8740-40f28fe13def\">\n",
              "  <button class=\"colab-df-quickchart\" onclick=\"quickchart('df-b91bbe20-8f82-44f3-8740-40f28fe13def')\"\n",
              "            title=\"Suggest charts.\"\n",
              "            style=\"display:none;\">\n",
              "\n",
              "<svg xmlns=\"http://www.w3.org/2000/svg\" height=\"24px\"viewBox=\"0 0 24 24\"\n",
              "     width=\"24px\">\n",
              "    <g>\n",
              "        <path d=\"M19 3H5c-1.1 0-2 .9-2 2v14c0 1.1.9 2 2 2h14c1.1 0 2-.9 2-2V5c0-1.1-.9-2-2-2zM9 17H7v-7h2v7zm4 0h-2V7h2v10zm4 0h-2v-4h2v4z\"/>\n",
              "    </g>\n",
              "</svg>\n",
              "  </button>\n",
              "\n",
              "<style>\n",
              "  .colab-df-quickchart {\n",
              "      --bg-color: #E8F0FE;\n",
              "      --fill-color: #1967D2;\n",
              "      --hover-bg-color: #E2EBFA;\n",
              "      --hover-fill-color: #174EA6;\n",
              "      --disabled-fill-color: #AAA;\n",
              "      --disabled-bg-color: #DDD;\n",
              "  }\n",
              "\n",
              "  [theme=dark] .colab-df-quickchart {\n",
              "      --bg-color: #3B4455;\n",
              "      --fill-color: #D2E3FC;\n",
              "      --hover-bg-color: #434B5C;\n",
              "      --hover-fill-color: #FFFFFF;\n",
              "      --disabled-bg-color: #3B4455;\n",
              "      --disabled-fill-color: #666;\n",
              "  }\n",
              "\n",
              "  .colab-df-quickchart {\n",
              "    background-color: var(--bg-color);\n",
              "    border: none;\n",
              "    border-radius: 50%;\n",
              "    cursor: pointer;\n",
              "    display: none;\n",
              "    fill: var(--fill-color);\n",
              "    height: 32px;\n",
              "    padding: 0;\n",
              "    width: 32px;\n",
              "  }\n",
              "\n",
              "  .colab-df-quickchart:hover {\n",
              "    background-color: var(--hover-bg-color);\n",
              "    box-shadow: 0 1px 2px rgba(60, 64, 67, 0.3), 0 1px 3px 1px rgba(60, 64, 67, 0.15);\n",
              "    fill: var(--button-hover-fill-color);\n",
              "  }\n",
              "\n",
              "  .colab-df-quickchart-complete:disabled,\n",
              "  .colab-df-quickchart-complete:disabled:hover {\n",
              "    background-color: var(--disabled-bg-color);\n",
              "    fill: var(--disabled-fill-color);\n",
              "    box-shadow: none;\n",
              "  }\n",
              "\n",
              "  .colab-df-spinner {\n",
              "    border: 2px solid var(--fill-color);\n",
              "    border-color: transparent;\n",
              "    border-bottom-color: var(--fill-color);\n",
              "    animation:\n",
              "      spin 1s steps(1) infinite;\n",
              "  }\n",
              "\n",
              "  @keyframes spin {\n",
              "    0% {\n",
              "      border-color: transparent;\n",
              "      border-bottom-color: var(--fill-color);\n",
              "      border-left-color: var(--fill-color);\n",
              "    }\n",
              "    20% {\n",
              "      border-color: transparent;\n",
              "      border-left-color: var(--fill-color);\n",
              "      border-top-color: var(--fill-color);\n",
              "    }\n",
              "    30% {\n",
              "      border-color: transparent;\n",
              "      border-left-color: var(--fill-color);\n",
              "      border-top-color: var(--fill-color);\n",
              "      border-right-color: var(--fill-color);\n",
              "    }\n",
              "    40% {\n",
              "      border-color: transparent;\n",
              "      border-right-color: var(--fill-color);\n",
              "      border-top-color: var(--fill-color);\n",
              "    }\n",
              "    60% {\n",
              "      border-color: transparent;\n",
              "      border-right-color: var(--fill-color);\n",
              "    }\n",
              "    80% {\n",
              "      border-color: transparent;\n",
              "      border-right-color: var(--fill-color);\n",
              "      border-bottom-color: var(--fill-color);\n",
              "    }\n",
              "    90% {\n",
              "      border-color: transparent;\n",
              "      border-bottom-color: var(--fill-color);\n",
              "    }\n",
              "  }\n",
              "</style>\n",
              "\n",
              "  <script>\n",
              "    async function quickchart(key) {\n",
              "      const quickchartButtonEl =\n",
              "        document.querySelector('#' + key + ' button');\n",
              "      quickchartButtonEl.disabled = true;  // To prevent multiple clicks.\n",
              "      quickchartButtonEl.classList.add('colab-df-spinner');\n",
              "      try {\n",
              "        const charts = await google.colab.kernel.invokeFunction(\n",
              "            'suggestCharts', [key], {});\n",
              "      } catch (error) {\n",
              "        console.error('Error during call to suggestCharts:', error);\n",
              "      }\n",
              "      quickchartButtonEl.classList.remove('colab-df-spinner');\n",
              "      quickchartButtonEl.classList.add('colab-df-quickchart-complete');\n",
              "    }\n",
              "    (() => {\n",
              "      let quickchartButtonEl =\n",
              "        document.querySelector('#df-b91bbe20-8f82-44f3-8740-40f28fe13def button');\n",
              "      quickchartButtonEl.style.display =\n",
              "        google.colab.kernel.accessAllowed ? 'block' : 'none';\n",
              "    })();\n",
              "  </script>\n",
              "</div>\n",
              "    </div>\n",
              "  </div>\n"
            ]
          },
          "metadata": {},
          "execution_count": 19
        }
      ]
    },
    {
      "cell_type": "markdown",
      "source": [
        "# **Handling Class Imbalance**"
      ],
      "metadata": {
        "id": "GH7yQf4CDook"
      }
    },
    {
      "cell_type": "code",
      "source": [
        "plt.figure(figsize=(6, 4))\n",
        "sns.countplot(data=data, x='LeaveOrNot')\n",
        "plt.title('Distribution of LeaveOrNot')\n",
        "plt.show()"
      ],
      "metadata": {
        "colab": {
          "base_uri": "https://localhost:8080/",
          "height": 410
        },
        "id": "ze9EiEQo8jZj",
        "outputId": "09cc8bef-322a-47b9-f974-ceec1bc5c293"
      },
      "execution_count": null,
      "outputs": [
        {
          "output_type": "display_data",
          "data": {
            "text/plain": [
              "<Figure size 600x400 with 1 Axes>"
            ],
            "image/png": "[encoded data removed]"
          },
          "metadata": {}
        }
      ]
    },
    {
      "cell_type": "code",
      "source": [
        "value_counts = data[\"LeaveOrNot\"].value_counts()\n",
        "imbalance_ratio = value_counts[0] / value_counts[1]\n",
        "\n",
        "value_counts,imbalance_ratio"
      ],
      "metadata": {
        "colab": {
          "base_uri": "https://localhost:8080/"
        },
        "id": "wWeeFtq-Dj6O",
        "outputId": "baa687a1-cf1c-4380-bc4a-1ffcdb576577"
      },
      "execution_count": null,
      "outputs": [
        {
          "output_type": "execute_result",
          "data": {
            "text/plain": [
              "(0    3053\n",
              " 1    1600\n",
              " Name: LeaveOrNot, dtype: int64,\n",
              " 1.908125)"
            ]
          },
          "metadata": {},
          "execution_count": 21
        }
      ]
    },
    {
      "cell_type": "markdown",
      "source": [
        "# **Observation**\n",
        "The imbalance ratio is about 1.91, which means that class 0 is almost twice as large as class 1."
      ],
      "metadata": {
        "id": "ns6WiNfAF0HW"
      }
    },
    {
      "cell_type": "code",
      "source": [
        "from imblearn.over_sampling import SMOTE\n",
        "\n",
        "# Separate features and target variable\n",
        "X = data_encoded.drop(columns=['LeaveOrNot'])\n",
        "y = data_encoded['LeaveOrNot']\n",
        "\n",
        "# Instantiate SMOTE\n",
        "smote = SMOTE(random_state=42)\n",
        "\n",
        "# Apply SMOTE to generate synthetic samples\n",
        "X_resampled, y_resampled = smote.fit_resample(X, y)\n"
      ],
      "metadata": {
        "id": "vQk8_fD37IU6"
      },
      "execution_count": null,
      "outputs": []
    },
    {
      "cell_type": "code",
      "source": [
        "\n",
        "plt.figure(figsize=(6, 4))\n",
        "sns.countplot(x=y_resampled)  # Set the color palette as needed\n",
        "plt.xlabel('LeaveOrNot')\n",
        "plt.ylabel('Count')\n",
        "plt.title('Balanced Distribution of LeaveOrNot')\n",
        "plt.show()"
      ],
      "metadata": {
        "colab": {
          "base_uri": "https://localhost:8080/",
          "height": 410
        },
        "id": "rxfREiif-wXD",
        "outputId": "c07ca054-c3ce-4605-bec2-311858119c32"
      },
      "execution_count": null,
      "outputs": [
        {
          "output_type": "display_data",
          "data": {
            "text/plain": [
              "<Figure size 600x400 with 1 Axes>"
            ],
            "image/png": "[encoded data removed]"
          },
          "metadata": {}
        }
      ]
    },
    {
      "cell_type": "markdown",
      "source": [
        "# **Split the data**"
      ],
      "metadata": {
        "id": "_apybaExBO7p"
      }
    },
    {
      "cell_type": "code",
      "source": [
        "from sklearn.model_selection import train_test_split\n",
        "from sklearn.preprocessing import StandardScaler\n",
        "from tensorflow.keras.models import Sequential\n",
        "from tensorflow.keras.layers import Dense\n",
        "from tensorflow.keras.optimizers import Adam\n",
        "from tensorflow.keras.metrics import BinaryAccuracy\n"
      ],
      "metadata": {
        "id": "auujy00uBoTQ"
      },
      "execution_count": null,
      "outputs": []
    },
    {
      "cell_type": "code",
      "source": [
        "# Split the data into training and testing sets\n",
        "X_train, X_test, y_train, y_test = train_test_split(X, y, test_size=0.2, random_state=42)\n",
        "\n",
        "# Standardize the features\n",
        "scaler = StandardScaler()\n",
        "X_train_scaled = scaler.fit_transform(X_train)\n",
        "X_test_scaled = scaler.transform(X_test)\n"
      ],
      "metadata": {
        "id": "NlupTLPXBTu5"
      },
      "execution_count": null,
      "outputs": []
    },
    {
      "cell_type": "code",
      "source": [
        "X_train_scaled"
      ],
      "metadata": {
        "colab": {
          "base_uri": "https://localhost:8080/"
        },
        "id": "VFuD2zeQQWk9",
        "outputId": "d96f4d92-14a1-4abf-f85e-aafbca44b6f1"
      },
      "execution_count": null,
      "outputs": [
        {
          "output_type": "execute_result",
          "data": {
            "text/plain": [
              "array([[-1.10973993,  0.53942425,  0.18195088, ...,  0.81567419,\n",
              "         0.33373122, -0.33373122],\n",
              "       [-1.64567506,  0.53942425, -0.95186837, ...,  0.81567419,\n",
              "         0.33373122, -0.33373122],\n",
              "       [ 1.03400058, -1.22639551, -0.03280563, ...,  0.81567419,\n",
              "         0.33373122, -0.33373122],\n",
              "       ...,\n",
              "       [ 0.49806545,  0.53942425,  1.90695969, ..., -1.2259797 ,\n",
              "         0.33373122, -0.33373122],\n",
              "       [-0.03786968,  0.53942425,  2.24880526, ...,  0.81567419,\n",
              "         0.33373122, -0.33373122],\n",
              "       [-0.03786968,  0.53942425, -0.47955944, ...,  0.81567419,\n",
              "         0.33373122, -0.33373122]])"
            ]
          },
          "metadata": {},
          "execution_count": 36
        }
      ]
    },
    {
      "cell_type": "code",
      "source": [
        "# Build the MLP model\n",
        "model = Sequential([\n",
        "    Dense(128, activation='relu', input_shape=(X_train.shape[1],)),\n",
        "    Dense(64, activation='relu'),\n",
        "    Dense(1, activation='sigmoid')  # Output layer with sigmoid activation for binary classification\n",
        "])\n",
        "\n",
        "# Compile the model\n",
        "model.compile(optimizer=Adam(lr=0.001), loss='binary_crossentropy', metrics=[BinaryAccuracy()])\n"
      ],
      "metadata": {
        "colab": {
          "base_uri": "https://localhost:8080/"
        },
        "id": "OhnUGE4uUBSs",
        "outputId": "bedb4929-c94b-420a-b0b2-c5a0e6a8f181"
      },
      "execution_count": null,
      "outputs": [
        {
          "output_type": "stream",
          "name": "stderr",
          "text": [
            "WARNING:absl:`lr` is deprecated in Keras optimizer, please use `learning_rate` or use the legacy optimizer, e.g.,tf.keras.optimizers.legacy.Adam.\n"
          ]
        }
      ]
    },
    {
      "cell_type": "code",
      "source": [
        "# Train the model\n",
        "model.fit(X_train_scaled, y_train, epochs=100, batch_size=32, validation_data=(X_test_scaled, y_test))\n"
      ],
      "metadata": {
        "colab": {
          "base_uri": "https://localhost:8080/"
        },
        "id": "WHxi4uWEUObD",
        "outputId": "44788bd9-e96b-4689-e4bf-2012e592b909"
      },
      "execution_count": null,
      "outputs": [
        {
          "output_type": "stream",
          "name": "stdout",
          "text": [
            "Epoch 1/100\n",
            "117/117 [==============================] - 2s 14ms/step - loss: 0.3096 - binary_accuracy: 0.8718 - val_loss: 0.3301 - val_binary_accuracy: 0.8561\n",
            "Epoch 2/100\n",
            "117/117 [==============================] - 2s 16ms/step - loss: 0.3096 - binary_accuracy: 0.8675 - val_loss: 0.3437 - val_binary_accuracy: 0.8604\n",
            "Epoch 3/100\n",
            "117/117 [==============================] - 1s 11ms/step - loss: 0.3082 - binary_accuracy: 0.8716 - val_loss: 0.3387 - val_binary_accuracy: 0.8582\n",
            "Epoch 4/100\n",
            "117/117 [==============================] - 1s 6ms/step - loss: 0.3061 - binary_accuracy: 0.8700 - val_loss: 0.3386 - val_binary_accuracy: 0.8711\n",
            "Epoch 5/100\n",
            "117/117 [==============================] - 1s 9ms/step - loss: 0.3063 - binary_accuracy: 0.8708 - val_loss: 0.3353 - val_binary_accuracy: 0.8668\n",
            "Epoch 6/100\n",
            "117/117 [==============================] - 1s 7ms/step - loss: 0.3048 - binary_accuracy: 0.8659 - val_loss: 0.3362 - val_binary_accuracy: 0.8647\n",
            "Epoch 7/100\n",
            "117/117 [==============================] - 0s 3ms/step - loss: 0.3038 - binary_accuracy: 0.8726 - val_loss: 0.3351 - val_binary_accuracy: 0.8604\n",
            "Epoch 8/100\n",
            "117/117 [==============================] - 0s 3ms/step - loss: 0.3023 - binary_accuracy: 0.8716 - val_loss: 0.3495 - val_binary_accuracy: 0.8614\n",
            "Epoch 9/100\n",
            "117/117 [==============================] - 0s 3ms/step - loss: 0.3001 - binary_accuracy: 0.8748 - val_loss: 0.3500 - val_binary_accuracy: 0.8604\n",
            "Epoch 10/100\n",
            "117/117 [==============================] - 0s 3ms/step - loss: 0.3045 - binary_accuracy: 0.8697 - val_loss: 0.3637 - val_binary_accuracy: 0.8528\n",
            "Epoch 11/100\n",
            "117/117 [==============================] - 0s 3ms/step - loss: 0.3059 - binary_accuracy: 0.8718 - val_loss: 0.3477 - val_binary_accuracy: 0.8593\n",
            "Epoch 12/100\n",
            "117/117 [==============================] - 0s 3ms/step - loss: 0.3045 - binary_accuracy: 0.8726 - val_loss: 0.3353 - val_binary_accuracy: 0.8593\n",
            "Epoch 13/100\n",
            "117/117 [==============================] - 0s 3ms/step - loss: 0.2981 - binary_accuracy: 0.8759 - val_loss: 0.3369 - val_binary_accuracy: 0.8657\n",
            "Epoch 14/100\n",
            "117/117 [==============================] - 0s 3ms/step - loss: 0.2986 - binary_accuracy: 0.8724 - val_loss: 0.3407 - val_binary_accuracy: 0.8571\n",
            "Epoch 15/100\n",
            "117/117 [==============================] - 0s 3ms/step - loss: 0.2990 - binary_accuracy: 0.8743 - val_loss: 0.3347 - val_binary_accuracy: 0.8668\n",
            "Epoch 16/100\n",
            "117/117 [==============================] - 0s 3ms/step - loss: 0.2977 - binary_accuracy: 0.8710 - val_loss: 0.3393 - val_binary_accuracy: 0.8668\n",
            "Epoch 17/100\n",
            "117/117 [==============================] - 0s 3ms/step - loss: 0.2961 - binary_accuracy: 0.8775 - val_loss: 0.3395 - val_binary_accuracy: 0.8614\n",
            "Epoch 18/100\n",
            "117/117 [==============================] - 0s 3ms/step - loss: 0.3002 - binary_accuracy: 0.8724 - val_loss: 0.3375 - val_binary_accuracy: 0.8647\n",
            "Epoch 19/100\n",
            "117/117 [==============================] - 0s 3ms/step - loss: 0.2951 - binary_accuracy: 0.8716 - val_loss: 0.3529 - val_binary_accuracy: 0.8690\n",
            "Epoch 20/100\n",
            "117/117 [==============================] - 0s 3ms/step - loss: 0.2931 - binary_accuracy: 0.8756 - val_loss: 0.3462 - val_binary_accuracy: 0.8582\n",
            "Epoch 21/100\n",
            "117/117 [==============================] - 0s 3ms/step - loss: 0.2953 - binary_accuracy: 0.8769 - val_loss: 0.3383 - val_binary_accuracy: 0.8647\n",
            "Epoch 22/100\n",
            "117/117 [==============================] - 0s 3ms/step - loss: 0.2914 - binary_accuracy: 0.8753 - val_loss: 0.3428 - val_binary_accuracy: 0.8690\n",
            "Epoch 23/100\n",
            "117/117 [==============================] - 0s 3ms/step - loss: 0.2922 - binary_accuracy: 0.8786 - val_loss: 0.3488 - val_binary_accuracy: 0.8625\n",
            "Epoch 24/100\n",
            "117/117 [==============================] - 0s 3ms/step - loss: 0.2939 - binary_accuracy: 0.8745 - val_loss: 0.3505 - val_binary_accuracy: 0.8604\n",
            "Epoch 25/100\n",
            "117/117 [==============================] - 0s 3ms/step - loss: 0.2940 - binary_accuracy: 0.8788 - val_loss: 0.3470 - val_binary_accuracy: 0.8647\n",
            "Epoch 26/100\n",
            "117/117 [==============================] - 0s 3ms/step - loss: 0.2935 - binary_accuracy: 0.8775 - val_loss: 0.3552 - val_binary_accuracy: 0.8614\n",
            "Epoch 27/100\n",
            "117/117 [==============================] - 1s 5ms/step - loss: 0.2903 - binary_accuracy: 0.8780 - val_loss: 0.3411 - val_binary_accuracy: 0.8657\n",
            "Epoch 28/100\n",
            "117/117 [==============================] - 1s 5ms/step - loss: 0.2916 - binary_accuracy: 0.8783 - val_loss: 0.3476 - val_binary_accuracy: 0.8679\n",
            "Epoch 29/100\n",
            "117/117 [==============================] - 1s 5ms/step - loss: 0.2884 - binary_accuracy: 0.8810 - val_loss: 0.3398 - val_binary_accuracy: 0.8657\n",
            "Epoch 30/100\n",
            "117/117 [==============================] - 1s 5ms/step - loss: 0.2865 - binary_accuracy: 0.8807 - val_loss: 0.3424 - val_binary_accuracy: 0.8625\n",
            "Epoch 31/100\n",
            "117/117 [==============================] - 1s 5ms/step - loss: 0.2923 - binary_accuracy: 0.8778 - val_loss: 0.3508 - val_binary_accuracy: 0.8604\n",
            "Epoch 32/100\n",
            "117/117 [==============================] - 1s 5ms/step - loss: 0.2862 - binary_accuracy: 0.8778 - val_loss: 0.3562 - val_binary_accuracy: 0.8647\n",
            "Epoch 33/100\n",
            "117/117 [==============================] - 1s 5ms/step - loss: 0.2847 - binary_accuracy: 0.8783 - val_loss: 0.3561 - val_binary_accuracy: 0.8582\n",
            "Epoch 34/100\n",
            "117/117 [==============================] - 0s 3ms/step - loss: 0.2875 - binary_accuracy: 0.8761 - val_loss: 0.3592 - val_binary_accuracy: 0.8604\n",
            "Epoch 35/100\n",
            "117/117 [==============================] - 0s 3ms/step - loss: 0.2855 - binary_accuracy: 0.8780 - val_loss: 0.3509 - val_binary_accuracy: 0.8582\n",
            "Epoch 36/100\n",
            "117/117 [==============================] - 0s 3ms/step - loss: 0.2832 - binary_accuracy: 0.8831 - val_loss: 0.3508 - val_binary_accuracy: 0.8668\n",
            "Epoch 37/100\n",
            "117/117 [==============================] - 0s 3ms/step - loss: 0.2868 - binary_accuracy: 0.8778 - val_loss: 0.3444 - val_binary_accuracy: 0.8550\n",
            "Epoch 38/100\n",
            "117/117 [==============================] - 0s 3ms/step - loss: 0.2863 - binary_accuracy: 0.8767 - val_loss: 0.3465 - val_binary_accuracy: 0.8539\n",
            "Epoch 39/100\n",
            "117/117 [==============================] - 0s 3ms/step - loss: 0.2844 - binary_accuracy: 0.8802 - val_loss: 0.3481 - val_binary_accuracy: 0.8657\n",
            "Epoch 40/100\n",
            "117/117 [==============================] - 0s 3ms/step - loss: 0.2832 - binary_accuracy: 0.8794 - val_loss: 0.3530 - val_binary_accuracy: 0.8571\n",
            "Epoch 41/100\n",
            "117/117 [==============================] - 0s 4ms/step - loss: 0.2850 - binary_accuracy: 0.8821 - val_loss: 0.3487 - val_binary_accuracy: 0.8625\n",
            "Epoch 42/100\n",
            "117/117 [==============================] - 0s 3ms/step - loss: 0.2813 - binary_accuracy: 0.8818 - val_loss: 0.3646 - val_binary_accuracy: 0.8475\n",
            "Epoch 43/100\n",
            "117/117 [==============================] - 0s 3ms/step - loss: 0.2842 - binary_accuracy: 0.8794 - val_loss: 0.3578 - val_binary_accuracy: 0.8593\n",
            "Epoch 44/100\n",
            "117/117 [==============================] - 0s 3ms/step - loss: 0.2848 - binary_accuracy: 0.8794 - val_loss: 0.3521 - val_binary_accuracy: 0.8614\n",
            "Epoch 45/100\n",
            "117/117 [==============================] - 0s 3ms/step - loss: 0.2805 - binary_accuracy: 0.8826 - val_loss: 0.3573 - val_binary_accuracy: 0.8593\n",
            "Epoch 46/100\n",
            "117/117 [==============================] - 0s 3ms/step - loss: 0.2771 - binary_accuracy: 0.8839 - val_loss: 0.3548 - val_binary_accuracy: 0.8571\n",
            "Epoch 47/100\n",
            "117/117 [==============================] - 0s 3ms/step - loss: 0.2795 - binary_accuracy: 0.8802 - val_loss: 0.3683 - val_binary_accuracy: 0.8625\n",
            "Epoch 48/100\n",
            "117/117 [==============================] - 0s 3ms/step - loss: 0.2837 - binary_accuracy: 0.8791 - val_loss: 0.3616 - val_binary_accuracy: 0.8539\n",
            "Epoch 49/100\n",
            "117/117 [==============================] - 0s 3ms/step - loss: 0.2778 - binary_accuracy: 0.8807 - val_loss: 0.3677 - val_binary_accuracy: 0.8496\n",
            "Epoch 50/100\n",
            "117/117 [==============================] - 0s 3ms/step - loss: 0.2798 - binary_accuracy: 0.8821 - val_loss: 0.3627 - val_binary_accuracy: 0.8496\n",
            "Epoch 51/100\n",
            "117/117 [==============================] - 0s 3ms/step - loss: 0.2814 - binary_accuracy: 0.8845 - val_loss: 0.3521 - val_binary_accuracy: 0.8614\n",
            "Epoch 52/100\n",
            "117/117 [==============================] - 0s 3ms/step - loss: 0.2781 - binary_accuracy: 0.8829 - val_loss: 0.3624 - val_binary_accuracy: 0.8561\n",
            "Epoch 53/100\n",
            "117/117 [==============================] - 0s 3ms/step - loss: 0.2787 - binary_accuracy: 0.8839 - val_loss: 0.3558 - val_binary_accuracy: 0.8614\n",
            "Epoch 54/100\n",
            "117/117 [==============================] - 0s 3ms/step - loss: 0.2771 - binary_accuracy: 0.8802 - val_loss: 0.3468 - val_binary_accuracy: 0.8550\n",
            "Epoch 55/100\n",
            "117/117 [==============================] - 0s 3ms/step - loss: 0.2766 - binary_accuracy: 0.8831 - val_loss: 0.3556 - val_binary_accuracy: 0.8539\n",
            "Epoch 56/100\n",
            "117/117 [==============================] - 0s 3ms/step - loss: 0.2776 - binary_accuracy: 0.8815 - val_loss: 0.3548 - val_binary_accuracy: 0.8636\n",
            "Epoch 57/100\n",
            "117/117 [==============================] - 0s 3ms/step - loss: 0.2749 - binary_accuracy: 0.8866 - val_loss: 0.3564 - val_binary_accuracy: 0.8571\n",
            "Epoch 58/100\n",
            "117/117 [==============================] - 0s 3ms/step - loss: 0.2734 - binary_accuracy: 0.8880 - val_loss: 0.3549 - val_binary_accuracy: 0.8657\n",
            "Epoch 59/100\n",
            "117/117 [==============================] - 0s 3ms/step - loss: 0.2741 - binary_accuracy: 0.8834 - val_loss: 0.3584 - val_binary_accuracy: 0.8593\n",
            "Epoch 60/100\n",
            "117/117 [==============================] - 0s 3ms/step - loss: 0.2730 - binary_accuracy: 0.8864 - val_loss: 0.3732 - val_binary_accuracy: 0.8539\n",
            "Epoch 61/100\n",
            "117/117 [==============================] - 0s 3ms/step - loss: 0.2711 - binary_accuracy: 0.8872 - val_loss: 0.3546 - val_binary_accuracy: 0.8539\n",
            "Epoch 62/100\n",
            "117/117 [==============================] - 1s 4ms/step - loss: 0.2764 - binary_accuracy: 0.8831 - val_loss: 0.3654 - val_binary_accuracy: 0.8485\n",
            "Epoch 63/100\n",
            "117/117 [==============================] - 1s 5ms/step - loss: 0.2712 - binary_accuracy: 0.8847 - val_loss: 0.3787 - val_binary_accuracy: 0.8389\n",
            "Epoch 64/100\n",
            "117/117 [==============================] - 1s 5ms/step - loss: 0.2772 - binary_accuracy: 0.8831 - val_loss: 0.3648 - val_binary_accuracy: 0.8507\n",
            "Epoch 65/100\n",
            "117/117 [==============================] - 1s 5ms/step - loss: 0.2739 - binary_accuracy: 0.8858 - val_loss: 0.3638 - val_binary_accuracy: 0.8507\n",
            "Epoch 66/100\n",
            "117/117 [==============================] - 1s 5ms/step - loss: 0.2709 - binary_accuracy: 0.8842 - val_loss: 0.3709 - val_binary_accuracy: 0.8593\n",
            "Epoch 67/100\n",
            "117/117 [==============================] - 1s 5ms/step - loss: 0.2752 - binary_accuracy: 0.8826 - val_loss: 0.3556 - val_binary_accuracy: 0.8453\n",
            "Epoch 68/100\n",
            "117/117 [==============================] - 1s 4ms/step - loss: 0.2676 - binary_accuracy: 0.8890 - val_loss: 0.3609 - val_binary_accuracy: 0.8582\n",
            "Epoch 69/100\n",
            "117/117 [==============================] - 1s 5ms/step - loss: 0.2702 - binary_accuracy: 0.8850 - val_loss: 0.3614 - val_binary_accuracy: 0.8507\n",
            "Epoch 70/100\n",
            "117/117 [==============================] - 0s 3ms/step - loss: 0.2752 - binary_accuracy: 0.8837 - val_loss: 0.3831 - val_binary_accuracy: 0.8496\n",
            "Epoch 71/100\n",
            "117/117 [==============================] - 0s 3ms/step - loss: 0.2722 - binary_accuracy: 0.8823 - val_loss: 0.3748 - val_binary_accuracy: 0.8496\n",
            "Epoch 72/100\n",
            "117/117 [==============================] - 0s 3ms/step - loss: 0.2692 - binary_accuracy: 0.8850 - val_loss: 0.3692 - val_binary_accuracy: 0.8528\n",
            "Epoch 73/100\n",
            "117/117 [==============================] - 0s 3ms/step - loss: 0.2697 - binary_accuracy: 0.8866 - val_loss: 0.3753 - val_binary_accuracy: 0.8485\n",
            "Epoch 74/100\n",
            "117/117 [==============================] - 0s 3ms/step - loss: 0.2700 - binary_accuracy: 0.8831 - val_loss: 0.3590 - val_binary_accuracy: 0.8539\n",
            "Epoch 75/100\n",
            "117/117 [==============================] - 0s 3ms/step - loss: 0.2690 - binary_accuracy: 0.8839 - val_loss: 0.3665 - val_binary_accuracy: 0.8496\n",
            "Epoch 76/100\n",
            "117/117 [==============================] - 0s 3ms/step - loss: 0.2688 - binary_accuracy: 0.8853 - val_loss: 0.3663 - val_binary_accuracy: 0.8475\n",
            "Epoch 77/100\n",
            "117/117 [==============================] - 0s 3ms/step - loss: 0.2705 - binary_accuracy: 0.8858 - val_loss: 0.3719 - val_binary_accuracy: 0.8614\n",
            "Epoch 78/100\n",
            "117/117 [==============================] - 0s 3ms/step - loss: 0.2662 - binary_accuracy: 0.8826 - val_loss: 0.3722 - val_binary_accuracy: 0.8496\n",
            "Epoch 79/100\n",
            "117/117 [==============================] - 0s 3ms/step - loss: 0.2749 - binary_accuracy: 0.8804 - val_loss: 0.3551 - val_binary_accuracy: 0.8571\n",
            "Epoch 80/100\n",
            "117/117 [==============================] - 0s 3ms/step - loss: 0.2658 - binary_accuracy: 0.8877 - val_loss: 0.3649 - val_binary_accuracy: 0.8550\n",
            "Epoch 81/100\n",
            "117/117 [==============================] - 0s 3ms/step - loss: 0.2697 - binary_accuracy: 0.8821 - val_loss: 0.3681 - val_binary_accuracy: 0.8443\n",
            "Epoch 82/100\n",
            "117/117 [==============================] - 0s 3ms/step - loss: 0.2651 - binary_accuracy: 0.8850 - val_loss: 0.3707 - val_binary_accuracy: 0.8443\n",
            "Epoch 83/100\n",
            "117/117 [==============================] - 0s 3ms/step - loss: 0.2671 - binary_accuracy: 0.8858 - val_loss: 0.3661 - val_binary_accuracy: 0.8593\n",
            "Epoch 84/100\n",
            "117/117 [==============================] - 0s 3ms/step - loss: 0.2655 - binary_accuracy: 0.8904 - val_loss: 0.3674 - val_binary_accuracy: 0.8539\n",
            "Epoch 85/100\n",
            "117/117 [==============================] - 0s 3ms/step - loss: 0.2674 - binary_accuracy: 0.8842 - val_loss: 0.3693 - val_binary_accuracy: 0.8453\n",
            "Epoch 86/100\n",
            "117/117 [==============================] - 0s 3ms/step - loss: 0.2636 - binary_accuracy: 0.8869 - val_loss: 0.3646 - val_binary_accuracy: 0.8528\n",
            "Epoch 87/100\n",
            "117/117 [==============================] - 0s 3ms/step - loss: 0.2633 - binary_accuracy: 0.8869 - val_loss: 0.3650 - val_binary_accuracy: 0.8593\n",
            "Epoch 88/100\n",
            "117/117 [==============================] - 0s 3ms/step - loss: 0.2647 - binary_accuracy: 0.8912 - val_loss: 0.3879 - val_binary_accuracy: 0.8378\n",
            "Epoch 89/100\n",
            "117/117 [==============================] - 0s 3ms/step - loss: 0.2635 - binary_accuracy: 0.8880 - val_loss: 0.3654 - val_binary_accuracy: 0.8614\n",
            "Epoch 90/100\n",
            "117/117 [==============================] - 0s 3ms/step - loss: 0.2668 - binary_accuracy: 0.8858 - val_loss: 0.3714 - val_binary_accuracy: 0.8496\n",
            "Epoch 91/100\n",
            "117/117 [==============================] - 0s 3ms/step - loss: 0.2632 - binary_accuracy: 0.8877 - val_loss: 0.3826 - val_binary_accuracy: 0.8647\n",
            "Epoch 92/100\n",
            "117/117 [==============================] - 0s 3ms/step - loss: 0.2644 - binary_accuracy: 0.8888 - val_loss: 0.3772 - val_binary_accuracy: 0.8571\n",
            "Epoch 93/100\n",
            "117/117 [==============================] - 0s 3ms/step - loss: 0.2624 - binary_accuracy: 0.8864 - val_loss: 0.3819 - val_binary_accuracy: 0.8432\n",
            "Epoch 94/100\n",
            "117/117 [==============================] - 0s 3ms/step - loss: 0.2621 - binary_accuracy: 0.8872 - val_loss: 0.3766 - val_binary_accuracy: 0.8625\n",
            "Epoch 95/100\n",
            "117/117 [==============================] - 0s 3ms/step - loss: 0.2605 - binary_accuracy: 0.8885 - val_loss: 0.3835 - val_binary_accuracy: 0.8507\n",
            "Epoch 96/100\n",
            "117/117 [==============================] - 0s 3ms/step - loss: 0.2593 - binary_accuracy: 0.8893 - val_loss: 0.3691 - val_binary_accuracy: 0.8593\n",
            "Epoch 97/100\n",
            "117/117 [==============================] - 0s 3ms/step - loss: 0.2632 - binary_accuracy: 0.8861 - val_loss: 0.3743 - val_binary_accuracy: 0.8550\n",
            "Epoch 98/100\n",
            "117/117 [==============================] - 1s 5ms/step - loss: 0.2633 - binary_accuracy: 0.8890 - val_loss: 0.3748 - val_binary_accuracy: 0.8539\n",
            "Epoch 99/100\n",
            "117/117 [==============================] - 1s 5ms/step - loss: 0.2618 - binary_accuracy: 0.8888 - val_loss: 0.3751 - val_binary_accuracy: 0.8518\n",
            "Epoch 100/100\n",
            "117/117 [==============================] - 1s 5ms/step - loss: 0.2568 - binary_accuracy: 0.8866 - val_loss: 0.3774 - val_binary_accuracy: 0.8539\n"
          ]
        },
        {
          "output_type": "execute_result",
          "data": {
            "text/plain": [
              "<keras.src.callbacks.History at 0x7e5fd867ac20>"
            ]
          },
          "metadata": {},
          "execution_count": 40
        }
      ]
    },
    {
      "cell_type": "code",
      "source": [
        "# Evaluate the model on the test set\n",
        "loss, accuracy = model.evaluate(X_test_scaled, y_test)\n",
        "print(f\"Test Loss: {loss:.4f}\")\n",
        "print(f\"Test Accuracy: {accuracy:.4f}\")\n"
      ],
      "metadata": {
        "colab": {
          "base_uri": "https://localhost:8080/"
        },
        "id": "8_mg-jqXUYYc",
        "outputId": "2e2b71a4-5650-4c21-e350-cbefcf55b0b3"
      },
      "execution_count": null,
      "outputs": [
        {
          "output_type": "stream",
          "name": "stdout",
          "text": [
            "30/30 [==============================] - 0s 3ms/step - loss: 0.3409 - binary_accuracy: 0.8711\n",
            "Test Loss: 0.3409\n",
            "Test Accuracy: 0.8711\n"
          ]
        }
      ]
    }
  ]
}